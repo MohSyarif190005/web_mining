{
  "nbformat": 4,
  "nbformat_minor": 0,
  "metadata": {
    "colab": {
      "provenance": [],
      "toc_visible": true,
      "collapsed_sections": []
    },
    "kernelspec": {
      "name": "python3",
      "display_name": "Python 3"
    },
    "language_info": {
      "name": "python"
    }
  },
  "cells": [
    {
      "cell_type": "markdown",
      "source": [
        "# Latent Semantic Analytic (LSA)"
      ],
      "metadata": {
        "id": "tb2dg4M8xGCV"
      }
    },
    {
      "cell_type": "markdown",
      "source": [
        "## Data Berita\n",
        "Data berita merupakan sebuah dataset yang berisi tentang berita aktual yang ada di website. Data Berita yang digunakan berdasarkan dari website www.detik.com dan akan dilakukan beberapa analisis, yaitu sebuah LSA atau Latent Semantic Analytic."
      ],
      "metadata": {
        "id": "-iAhy6283pIn"
      }
    },
    {
      "cell_type": "markdown",
      "source": [
        "### LSA (Latent Semantic Analytic)\n",
        "LSA atau Latent Semantic Analytic merupakan menggunakan model bag of word(BoW), yang menghasilkan matriks term-dokumen (kemunculan istilah dalam dokumen). Baris mewakili istilah dan kolom mewakili dokumen. LSA mempelajari topik laten dengan melakukan dekomposisi matriks pada matriks istilah dokumen menggunakan dekomposisi nilai Singular. LSA biasanya digunakan sebagai teknik pengurangan dimensi atau pengurangan kebisingan (noise redusing technique). Dalam LSA, dilakukan sebuah topic modelling.\n",
        "\n",
        "<img src=\"https://res.cloudinary.com/dyd911kmh/image/upload/f_auto,q_auto:best/v1538411402/image3_maagmh.png\">"
      ],
      "metadata": {
        "id": "T_15YKf-qfX7"
      }
    },
    {
      "cell_type": "markdown",
      "source": [
        "### Topic Modelling\n",
        "secara otomatis menemukan tema tersembunyi dari dokumen yang diberikan. Ini adalah algoritma analitik teks tanpa pengawasan yang digunakan untuk menemukan kelompok kata dari dokumen yang diberikan. Kelompok kata ini mewakili sebuah topik. Ada kemungkinan bahwa, satu dokumen dapat dikaitkan dengan beberapa tema. misalnya, kata kelompok seperti 'pasien', 'dokter', 'penyakit', 'kanker', iklan 'kesehatan' akan mewakili topik 'kesehatan'. Pemodelan Topik atau topic modelling adalah permainan yang berbeda dibandingkan dengan pencarian teks berbasis aturan yang menggunakan ekspresi reguler.\n",
        "\n",
        "<img src=\"https://res.cloudinary.com/dyd911kmh/image/upload/f_auto,q_auto:best/v1538411402/Image1_dz0yfl.png\">"
      ],
      "metadata": {
        "id": "ejPagg3TrOdZ"
      }
    },
    {
      "cell_type": "markdown",
      "source": [
        "### Perbandingan Antara Teks Klasifikasi dengan Topic Modelling\n",
        "Klasifikasi teks adalah masalah pembelajaran mesin yang diawasi, di mana dokumen teks atau artikel diklasifikasikan ke dalam kumpulan kelas yang telah ditentukan sebelumnya. Pemodelan topik adalah proses menemukan kelompok kata-kata yang muncul bersama dalam dokumen teks. Kata-kata terkait yang muncul bersama kelompok ini membuat \"topik\". Ini adalah bentuk pembelajaran tanpa pengawasan, sehingga rangkaian topik yang mungkin tidak diketahui. Pemodelan topik dapat digunakan untuk menyelesaikan masalah klasifikasi teks. Pemodelan topik akan mengidentifikasi topik yang disajikan dalam dokumen\" sedangkan klasifikasi teks mengklasifikasikan teks ke dalam satu kelas.\n",
        "\n",
        "<img src=\"https://res.cloudinary.com/dyd911kmh/image/upload/f_auto,q_auto:best/v1538411402/image2_ndnai9.png\">"
      ],
      "metadata": {
        "id": "2FCSQqZMrdb9"
      }
    },
    {
      "cell_type": "markdown",
      "source": [
        "## Crawling Data\n",
        "Crawling data berita menggunakan modul beautifulsoup dan berikut tahapan yang dilakukan:"
      ],
      "metadata": {
        "id": "Czla8M5d4Zmh"
      }
    },
    {
      "cell_type": "markdown",
      "source": [
        "### Menginstal Modul\n",
        "Menginstal modul yang dibutuhkan"
      ],
      "metadata": {
        "id": "x9h1azHJ4ifm"
      }
    },
    {
      "cell_type": "code",
      "source": [
        "!pip install requests\n",
        "!pip install html5lib\n",
        "!pip install bs4\n",
        "!pip install urllib3"
      ],
      "metadata": {
        "colab": {
          "base_uri": "https://localhost:8080/"
        },
        "id": "U9pBtQal-EaC",
        "outputId": "b2e7ef50-1358-497c-bf6f-7ebdbf2ff5ca"
      },
      "execution_count": null,
      "outputs": [
        {
          "output_type": "stream",
          "name": "stdout",
          "text": [
            "Looking in indexes: https://pypi.org/simple, https://us-python.pkg.dev/colab-wheels/public/simple/\n",
            "Requirement already satisfied: requests in /usr/local/lib/python3.7/dist-packages (2.23.0)\n",
            "Requirement already satisfied: urllib3!=1.25.0,!=1.25.1,<1.26,>=1.21.1 in /usr/local/lib/python3.7/dist-packages (from requests) (1.24.3)\n",
            "Requirement already satisfied: chardet<4,>=3.0.2 in /usr/local/lib/python3.7/dist-packages (from requests) (3.0.4)\n",
            "Requirement already satisfied: certifi>=2017.4.17 in /usr/local/lib/python3.7/dist-packages (from requests) (2022.9.24)\n",
            "Requirement already satisfied: idna<3,>=2.5 in /usr/local/lib/python3.7/dist-packages (from requests) (2.10)\n",
            "Looking in indexes: https://pypi.org/simple, https://us-python.pkg.dev/colab-wheels/public/simple/\n",
            "Requirement already satisfied: html5lib in /usr/local/lib/python3.7/dist-packages (1.0.1)\n",
            "Requirement already satisfied: six>=1.9 in /usr/local/lib/python3.7/dist-packages (from html5lib) (1.15.0)\n",
            "Requirement already satisfied: webencodings in /usr/local/lib/python3.7/dist-packages (from html5lib) (0.5.1)\n",
            "Looking in indexes: https://pypi.org/simple, https://us-python.pkg.dev/colab-wheels/public/simple/\n",
            "Requirement already satisfied: bs4 in /usr/local/lib/python3.7/dist-packages (0.0.1)\n",
            "Requirement already satisfied: beautifulsoup4 in /usr/local/lib/python3.7/dist-packages (from bs4) (4.6.3)\n",
            "Looking in indexes: https://pypi.org/simple, https://us-python.pkg.dev/colab-wheels/public/simple/\n",
            "Requirement already satisfied: urllib3 in /usr/local/lib/python3.7/dist-packages (1.24.3)\n"
          ]
        }
      ]
    },
    {
      "cell_type": "markdown",
      "source": [
        "### Menentukan Direktori\n",
        "Memastikan bekerja dalam direktori yang diinginkan"
      ],
      "metadata": {
        "id": "EXz7n7oP4mnf"
      }
    },
    {
      "cell_type": "code",
      "source": [
        "# get the current working directory\n",
        "import os\n",
        "os.getcwd()"
      ],
      "metadata": {
        "colab": {
          "base_uri": "https://localhost:8080/",
          "height": 36
        },
        "id": "BNiAvmuW-o1v",
        "outputId": "983ff5f2-903d-4254-a397-74f915af9499"
      },
      "execution_count": null,
      "outputs": [
        {
          "output_type": "execute_result",
          "data": {
            "text/plain": [
              "'/content/Berita'"
            ],
            "application/vnd.google.colaboratory.intrinsic+json": {
              "type": "string"
            }
          },
          "metadata": {},
          "execution_count": 45
        }
      ]
    },
    {
      "cell_type": "code",
      "source": [
        "os.mkdir('Berita')"
      ],
      "metadata": {
        "id": "CiDyX5ET7imO"
      },
      "execution_count": null,
      "outputs": []
    },
    {
      "cell_type": "code",
      "source": [
        "# change working directories\n",
        "os.chdir('/content/Berita')\n",
        "os.getcwd()"
      ],
      "metadata": {
        "colab": {
          "base_uri": "https://localhost:8080/",
          "height": 36
        },
        "id": "5P4eTUJB-teG",
        "outputId": "9222b70b-a838-4c6e-a0f4-7aaffc12062e"
      },
      "execution_count": null,
      "outputs": [
        {
          "output_type": "execute_result",
          "data": {
            "text/plain": [
              "'/content/Berita'"
            ],
            "application/vnd.google.colaboratory.intrinsic+json": {
              "type": "string"
            }
          },
          "metadata": {},
          "execution_count": 47
        }
      ]
    },
    {
      "cell_type": "markdown",
      "source": [
        "### Import CSV\n",
        "Membuat sebuah file csv dalam file dengan nama result.csv untuk menampung hasil crawling data berita"
      ],
      "metadata": {
        "id": "ae_Wt_Ck4vH3"
      }
    },
    {
      "cell_type": "code",
      "source": [
        "import csv\n",
        "writer = csv.writer(open(\"result.csv\", 'w'))"
      ],
      "metadata": {
        "id": "etIQvIa7_Lsq"
      },
      "execution_count": null,
      "outputs": []
    },
    {
      "cell_type": "markdown",
      "source": [
        "### Mendapatkan Data\n",
        "Untuk bisa crawlingh data yang mungkin sekali terdapat di lebih dari 1 halaman, kita perlu mencari pola URL nya. Caranya dengan melihat URL untuk halaman 2 atau seterusnya. Klik kanan dan “Open link in new tab”. Pola URL halaman pencarian yang muncul seperti berikut: https://www.detik.com/search/searchall?query=ihsg&sortby=time&page=2 <br>\n",
        "Perhatikan bagian URL yang ditebalkan,\n",
        "https://www.detik.com/search/searchall?query=ihsg&sortby=time&amp;page=2. Halaman 2 mengandung “page=2”, halaman 3 mengandung “page=3”, dst. Kita membutuhkan variabel GET dengan nama “page” sebagai basis iterasi pencarian data per halaman via script Python3 dan BeautifulSoup4 nanti.\n",
        "Hasil pencarian dapat disimpan dengan format file CSV (Comma Separated Values). Di dalam contoh skrip saya berikan nama filenya result.csv dengan header: Title, Date, Category, dan Summary. Header ini berguna jika file CSV tersebut dibuka di aplikasi Excel agar baris pertama berisi nama variabel.\n",
        "Iterasi “for page in range(1,5): ” bertujuan untuk penelusuran setiap halaman dari 1 sampai 5. URL penelusuran harus diatur agar iterasi dapat dilakukan.\n",
        "Saya gunakan pola berikut: url = “https://www.detik.com/search/searchnews?query=ihsg&sortby=time&page={}“.format(page) yang mana {} akan diganti dengan nilai variabel page pada skrip iterasi yaitu integer 1 sampai 5. Sehingga URL yang akan di-crawl adalah: <br>\n",
        "<ul> https://www.detik.com/search/searchnews?query=ihsg&sortby=time&page=1 </ul>\n",
        "<ul> https://www.detik.com/search/searchnews?query=ihsg&sortby=time&page=2 </ul>\n",
        "<ul> https://www.detik.com/search/searchnews?query=ihsg&sortby=time&page=3 </ul>\n",
        "<ul> https://www.detik.com/search/searchnews?query=ihsg&sortby=time&page=4 </ul>\n",
        "<ul> https://www.detik.com/search/searchnews?query=ihsg&sortby=time&page=5 </ul>"
      ],
      "metadata": {
        "id": "wHiblxuv435w"
      }
    },
    {
      "cell_type": "code",
      "source": [
        "from urllib.request import urlopen\n",
        "from bs4 import BeautifulSoup\n",
        "file = \"result.csv\"\n",
        "f = open(file, \"w\")\n",
        "Headers = \"Title,Category,Date,Summary\\n\" #Pemisah menggunakan ,\n",
        "f.write(Headers)\n",
        "#halaman dapat diatur sesuai range (1,5) berarti scrap data pada halaman 1 sampai dengan halaman 5\n",
        "for page in range(1,5):\n",
        "    url = \"https://www.detik.com/search/searchnews?query=ihsg&sortby=time&page={}\".format(page)\n",
        "    html = urlopen(url)\n",
        "    soup = BeautifulSoup(html,\"html.parser\")\n",
        "    soup.prettify()\n",
        "    Article = soup.find_all(\"article\")\n",
        "    #print(Article)\n",
        "    for i in Article:\n",
        "        try:\n",
        "            #Mengambil Title\n",
        "            title = i.find(\"h2\", {\"class\":\"title\"}).get_text()\n",
        "            #Mencari tanggal dan kategori\n",
        "            date_and_category = i.find(\"span\",{\"class\":\"date\"}).get_text()\n",
        "            summary = i.find(\"p\").get_text()\n",
        "            #Tulis data ke dalam file\n",
        "            f.write(\"{}\".format(title).replace(\",\",\"|\") + \", {}\".format(date_and_category).replace(\"  -  \",\",\") + \",\" + \", {}\".format(summary).replace(\",\",\" \") + \"\\n\" )\n",
        "        except: AttributeError\n",
        "f.close()"
      ],
      "metadata": {
        "id": "QPZPr_Lj-I4L"
      },
      "execution_count": null,
      "outputs": []
    },
    {
      "cell_type": "markdown",
      "source": [
        "### Menyimpan Data\n",
        "Simpan Data hasil crawling kedalam csv"
      ],
      "metadata": {
        "id": "zic_-gkiOjWI"
      }
    },
    {
      "cell_type": "code",
      "source": [
        "#Load Dataset\n",
        "import pandas as pd\n",
        "data=pd.read_csv('result.csv')\n",
        "data"
      ],
      "metadata": {
        "colab": {
          "base_uri": "https://localhost:8080/",
          "height": 1000
        },
        "id": "ii0KH0Io_Vzu",
        "outputId": "525310d3-0dd2-45dd-e631-c7aa75564745"
      },
      "execution_count": null,
      "outputs": [
        {
          "output_type": "execute_result",
          "data": {
            "text/plain": [
              "                                                Title             Category  \\\n",
              "0   IHSG Dibuka Menguat Lagi ke 7.099| Intip Rekom...   detikFinanceSelasa   \n",
              "1   IHSG Hijau Seharian| Sore Ini Ditutup di Level...    detikFinanceSenin   \n",
              "2          IHSG Dibuka Menguat ke 7.041 di Awal Pekan    detikFinanceSenin   \n",
              "3    IHSG Ditutup Menguat ke 7.017 Jelang Akhir Pekan    detikFinanceJumat   \n",
              "4   IHSG Balik ke Level 7.000! Cek Rekomendasi Sah...    detikFinanceJumat   \n",
              "5   IHSG Hari Ini 'Kepeleset' tapi Balik Menguat k...    detikFinanceKamis   \n",
              "6   IHSG Berhasil Mantul ke Zona Hijau| Tutup di 6...     detikFinanceRabu   \n",
              "7   IHSG Dibuka Melemah Tipis| Intip Peluang Lajun...     detikFinanceRabu   \n",
              "8   Masih Rugi dan Punya Utang| Kok Blibli Nekat IPO?     detikFinanceRabu   \n",
              "9   IHSG Ditutup Menguat Setelah Tadi Pagi Menukik...    detikFinanceSenin   \n",
              "10  Buka Awal Pekan| IHSG Rontok Makin Jauh dari 7...    detikFinanceSenin   \n",
              "11       Kemarin Rontok| Pagi Ini IHSG Bergairah Lagi    detikFinanceJumat   \n",
              "12  Jokowi ke BEI: Jangan Bangga Hanya Cetak Rekor...    detikFinanceKamis   \n",
              "13             IHSG Dibuka Menguat| tapi Tipis Banget    detikFinanceKamis   \n",
              "14  Sempat Menguat| IHSG Berakhir Tersungkur ke Le...     detikFinanceRabu   \n",
              "15  Pagi-pagi IHSG Labil| Sempat Naik| Turun| Eh N...     detikFinanceRabu   \n",
              "16     Seharian Merah| IHSG Tersungkur di Level 6.939   detikFinanceSelasa   \n",
              "17       IHSG Masih Loyo| Makin Jauh dari Level 7.000   detikFinanceSelasa   \n",
              "18  IHSG Diramal Melorot ke 6.000-an| Intip Saham-...   detikFinanceSelasa   \n",
              "19         IHSG Diramal Lesu| Masalah Ini Jadi Pemicu   detikFinanceSelasa   \n",
              "20  Dolar AS Keok Lawan Rupiah| tapi Masih Betah d...    detikFinanceSenin   \n",
              "21    Makin Loyo| IHSG Dibuka Merosot ke Posisi 6.986    detikFinanceSenin   \n",
              "22   IHSG Diramal Melemah tapi Masih di Kisaran 7.000    detikFinanceSenin   \n",
              "23     IHSG Hari Ini Balik Arah| Dibuka di Zona Merah    detikFinanceJumat   \n",
              "24      Ditutup di Zona Hijau| Penguatan IHSG Menciut    detikFinanceKamis   \n",
              "25          Hattrick! IHSG 3 Hari Dibuka Menguat Lagi    detikFinanceKamis   \n",
              "26                   Intip Ramalan Laju IHSG Hari Ini    detikFinanceKamis   \n",
              "27               Seharian Hijau| IHSG Parkir di 7.075     detikFinanceRabu   \n",
              "28        Kompak dengan Bursa Asia| IHSG Menguat Lagi     detikFinanceRabu   \n",
              "29           IHSG Ijo Royo-royo| Kini Parkir di 7.072   detikFinanceSelasa   \n",
              "30                     Rebound| IHSG Lompat ke 7.069!   detikFinanceSelasa   \n",
              "31                  Melemah Lagi| IHSG Ditutup Ambles    detikFinanceSenin   \n",
              "32         IHSG Terjun| Sempat Tinggalkan Level 7.000    detikFinanceSenin   \n",
              "33              Ambles! IHSG Lengser dari Level 7.000    detikFinanceJumat   \n",
              "34   Pecah Telur 3 Hari! IHSG Akhirnya Dibuka Menguat    detikFinanceKamis   \n",
              "35  Kondisi Ekonomi Memprihatinkan| Rupiah Anjlok ...       detikSumutRabu   \n",
              "\n",
              "                      Date                                            Summary  \n",
              "0    25 Okt 2022 09:08 WIB    Indeks Harga Saham Gabungan (IHSG) hari ini ...  \n",
              "1    24 Okt 2022 16:14 WIB    Indeks Harga Saham Gabungan (IHSG) hari ini ...  \n",
              "2    24 Okt 2022 09:10 WIB    Indeks Harga Saham Gabungan (IHSG) hari ini ...  \n",
              "3    21 Okt 2022 16:09 WIB    Indeks Harga Saham Gabungan (IHSG) hari ini ...  \n",
              "4    21 Okt 2022 09:10 WIB    IHSG berhasil kembali ke level 7.006. IHSG b...  \n",
              "5    20 Okt 2022 09:08 WIB    IHSG sempat menyentuh zona merah dan berbali...  \n",
              "6    19 Okt 2022 16:27 WIB    Indeks harga saham gabungan (IHSG) ditutup m...  \n",
              "7    19 Okt 2022 09:19 WIB    Indeks Harga Saham Gabungan (IHSG) pagi ini ...  \n",
              "8    19 Okt 2022 06:00 WIB    Blibli mantap melantai di Bursa Efek Indones...  \n",
              "9    17 Okt 2022 16:00 WIB    Indeks harga saham gabungan (IHSG) ditutup m...  \n",
              "10   17 Okt 2022 09:24 WIB    Indeks Harga Saham Gabungan (IHSG) pagi ini ...  \n",
              "11   14 Okt 2022 09:12 WIB    Indeks Harga Saham Gabungan (IHSG) pagi ini ...  \n",
              "12   13 Okt 2022 12:33 WIB    Presiden Joko Widodo (Jokowi) berpesan kepad...  \n",
              "13   13 Okt 2022 09:10 WIB    Indeks Harga Saham Gabungan (IHSG) pagi ini ...  \n",
              "14   12 Okt 2022 16:05 WIB    Indeks Harga Saham Gabungan (IHSG) sore ini ...  \n",
              "15   12 Okt 2022 09:22 WIB    Indeks Harga Saham Gabungan (IHSG) pagi ini ...  \n",
              "16   11 Okt 2022 16:05 WIB    Indeks Harga Saham Gabungan (IHSG) sore ini ...  \n",
              "17   11 Okt 2022 09:12 WIB    Indeks Harga Saham Gabungan (IHSG) pagi ini ...  \n",
              "18   11 Okt 2022 09:00 WIB    Untuk hari ini IHSG diprediksi bergerak mixe...  \n",
              "19   11 Okt 2022 08:49 WIB    Untuk hari ini IHSG diprediksi melemah. Sima...  \n",
              "20   10 Okt 2022 10:09 WIB    Nilai tukar dolar Amerika Serikat (AS) terha...  \n",
              "21   10 Okt 2022 09:20 WIB    Indeks Harga Saham Gabungan (IHSG) pagi ini ...  \n",
              "22   10 Okt 2022 09:04 WIB    Bagaimana dengan ramalan pergerakan IHSG har...  \n",
              "23   07 Okt 2022 09:17 WIB    Indeks Harga Saham Gabungan (IHSG) pagi ini ...  \n",
              "24   06 Okt 2022 16:31 WIB    Indeks Harga Saham Gabungan (IHSG) pada sore...  \n",
              "25   06 Okt 2022 09:19 WIB    Indeks Harga Saham Gabungan (IHSG) pagi ini ...  \n",
              "26   06 Okt 2022 08:45 WIB    IHSG diramal bakal bergerak mixed dalam leve...  \n",
              "27   05 Okt 2022 15:52 WIB    Indeks Harga Saham Gabungan (IHSG) pada sore...  \n",
              "28   05 Okt 2022 09:12 WIB    Indeks Harga Saham Gabungan (IHSG) pada pagi...  \n",
              "29   04 Okt 2022 16:33 WIB    Indeks Harga Saham Gabungan pada sore ini di...  \n",
              "30   04 Okt 2022 09:18 WIB    Indeks Harga Saham Gabungan (IHSG) pada pagi...  \n",
              "31   03 Okt 2022 15:27 WIB    Indeks harga saham gabungan (IHSG) ditutup m...  \n",
              "32   03 Okt 2022 09:10 WIB    Indeks Harga Saham Gabungan (IHSG) pada pagi...  \n",
              "33   30 Sep 2022 09:42 WIB    Indeks Harga Saham Gabungan (IHSG) masih mel...  \n",
              "34   29 Sep 2022 09:11 WIB    Indeks Harga Saham Gabungan (IHSG) pada pagi...  \n",
              "35   28 Sep 2022 17:40 WIB    Nilai tukar rupiah terhadap dolar AS saat in...  "
            ],
            "text/html": [
              "\n",
              "  <div id=\"df-d74ae534-5347-459a-ac10-50aaff19ad22\">\n",
              "    <div class=\"colab-df-container\">\n",
              "      <div>\n",
              "<style scoped>\n",
              "    .dataframe tbody tr th:only-of-type {\n",
              "        vertical-align: middle;\n",
              "    }\n",
              "\n",
              "    .dataframe tbody tr th {\n",
              "        vertical-align: top;\n",
              "    }\n",
              "\n",
              "    .dataframe thead th {\n",
              "        text-align: right;\n",
              "    }\n",
              "</style>\n",
              "<table border=\"1\" class=\"dataframe\">\n",
              "  <thead>\n",
              "    <tr style=\"text-align: right;\">\n",
              "      <th></th>\n",
              "      <th>Title</th>\n",
              "      <th>Category</th>\n",
              "      <th>Date</th>\n",
              "      <th>Summary</th>\n",
              "    </tr>\n",
              "  </thead>\n",
              "  <tbody>\n",
              "    <tr>\n",
              "      <th>0</th>\n",
              "      <td>IHSG Dibuka Menguat Lagi ke 7.099| Intip Rekom...</td>\n",
              "      <td>detikFinanceSelasa</td>\n",
              "      <td>25 Okt 2022 09:08 WIB</td>\n",
              "      <td>Indeks Harga Saham Gabungan (IHSG) hari ini ...</td>\n",
              "    </tr>\n",
              "    <tr>\n",
              "      <th>1</th>\n",
              "      <td>IHSG Hijau Seharian| Sore Ini Ditutup di Level...</td>\n",
              "      <td>detikFinanceSenin</td>\n",
              "      <td>24 Okt 2022 16:14 WIB</td>\n",
              "      <td>Indeks Harga Saham Gabungan (IHSG) hari ini ...</td>\n",
              "    </tr>\n",
              "    <tr>\n",
              "      <th>2</th>\n",
              "      <td>IHSG Dibuka Menguat ke 7.041 di Awal Pekan</td>\n",
              "      <td>detikFinanceSenin</td>\n",
              "      <td>24 Okt 2022 09:10 WIB</td>\n",
              "      <td>Indeks Harga Saham Gabungan (IHSG) hari ini ...</td>\n",
              "    </tr>\n",
              "    <tr>\n",
              "      <th>3</th>\n",
              "      <td>IHSG Ditutup Menguat ke 7.017 Jelang Akhir Pekan</td>\n",
              "      <td>detikFinanceJumat</td>\n",
              "      <td>21 Okt 2022 16:09 WIB</td>\n",
              "      <td>Indeks Harga Saham Gabungan (IHSG) hari ini ...</td>\n",
              "    </tr>\n",
              "    <tr>\n",
              "      <th>4</th>\n",
              "      <td>IHSG Balik ke Level 7.000! Cek Rekomendasi Sah...</td>\n",
              "      <td>detikFinanceJumat</td>\n",
              "      <td>21 Okt 2022 09:10 WIB</td>\n",
              "      <td>IHSG berhasil kembali ke level 7.006. IHSG b...</td>\n",
              "    </tr>\n",
              "    <tr>\n",
              "      <th>5</th>\n",
              "      <td>IHSG Hari Ini 'Kepeleset' tapi Balik Menguat k...</td>\n",
              "      <td>detikFinanceKamis</td>\n",
              "      <td>20 Okt 2022 09:08 WIB</td>\n",
              "      <td>IHSG sempat menyentuh zona merah dan berbali...</td>\n",
              "    </tr>\n",
              "    <tr>\n",
              "      <th>6</th>\n",
              "      <td>IHSG Berhasil Mantul ke Zona Hijau| Tutup di 6...</td>\n",
              "      <td>detikFinanceRabu</td>\n",
              "      <td>19 Okt 2022 16:27 WIB</td>\n",
              "      <td>Indeks harga saham gabungan (IHSG) ditutup m...</td>\n",
              "    </tr>\n",
              "    <tr>\n",
              "      <th>7</th>\n",
              "      <td>IHSG Dibuka Melemah Tipis| Intip Peluang Lajun...</td>\n",
              "      <td>detikFinanceRabu</td>\n",
              "      <td>19 Okt 2022 09:19 WIB</td>\n",
              "      <td>Indeks Harga Saham Gabungan (IHSG) pagi ini ...</td>\n",
              "    </tr>\n",
              "    <tr>\n",
              "      <th>8</th>\n",
              "      <td>Masih Rugi dan Punya Utang| Kok Blibli Nekat IPO?</td>\n",
              "      <td>detikFinanceRabu</td>\n",
              "      <td>19 Okt 2022 06:00 WIB</td>\n",
              "      <td>Blibli mantap melantai di Bursa Efek Indones...</td>\n",
              "    </tr>\n",
              "    <tr>\n",
              "      <th>9</th>\n",
              "      <td>IHSG Ditutup Menguat Setelah Tadi Pagi Menukik...</td>\n",
              "      <td>detikFinanceSenin</td>\n",
              "      <td>17 Okt 2022 16:00 WIB</td>\n",
              "      <td>Indeks harga saham gabungan (IHSG) ditutup m...</td>\n",
              "    </tr>\n",
              "    <tr>\n",
              "      <th>10</th>\n",
              "      <td>Buka Awal Pekan| IHSG Rontok Makin Jauh dari 7...</td>\n",
              "      <td>detikFinanceSenin</td>\n",
              "      <td>17 Okt 2022 09:24 WIB</td>\n",
              "      <td>Indeks Harga Saham Gabungan (IHSG) pagi ini ...</td>\n",
              "    </tr>\n",
              "    <tr>\n",
              "      <th>11</th>\n",
              "      <td>Kemarin Rontok| Pagi Ini IHSG Bergairah Lagi</td>\n",
              "      <td>detikFinanceJumat</td>\n",
              "      <td>14 Okt 2022 09:12 WIB</td>\n",
              "      <td>Indeks Harga Saham Gabungan (IHSG) pagi ini ...</td>\n",
              "    </tr>\n",
              "    <tr>\n",
              "      <th>12</th>\n",
              "      <td>Jokowi ke BEI: Jangan Bangga Hanya Cetak Rekor...</td>\n",
              "      <td>detikFinanceKamis</td>\n",
              "      <td>13 Okt 2022 12:33 WIB</td>\n",
              "      <td>Presiden Joko Widodo (Jokowi) berpesan kepad...</td>\n",
              "    </tr>\n",
              "    <tr>\n",
              "      <th>13</th>\n",
              "      <td>IHSG Dibuka Menguat| tapi Tipis Banget</td>\n",
              "      <td>detikFinanceKamis</td>\n",
              "      <td>13 Okt 2022 09:10 WIB</td>\n",
              "      <td>Indeks Harga Saham Gabungan (IHSG) pagi ini ...</td>\n",
              "    </tr>\n",
              "    <tr>\n",
              "      <th>14</th>\n",
              "      <td>Sempat Menguat| IHSG Berakhir Tersungkur ke Le...</td>\n",
              "      <td>detikFinanceRabu</td>\n",
              "      <td>12 Okt 2022 16:05 WIB</td>\n",
              "      <td>Indeks Harga Saham Gabungan (IHSG) sore ini ...</td>\n",
              "    </tr>\n",
              "    <tr>\n",
              "      <th>15</th>\n",
              "      <td>Pagi-pagi IHSG Labil| Sempat Naik| Turun| Eh N...</td>\n",
              "      <td>detikFinanceRabu</td>\n",
              "      <td>12 Okt 2022 09:22 WIB</td>\n",
              "      <td>Indeks Harga Saham Gabungan (IHSG) pagi ini ...</td>\n",
              "    </tr>\n",
              "    <tr>\n",
              "      <th>16</th>\n",
              "      <td>Seharian Merah| IHSG Tersungkur di Level 6.939</td>\n",
              "      <td>detikFinanceSelasa</td>\n",
              "      <td>11 Okt 2022 16:05 WIB</td>\n",
              "      <td>Indeks Harga Saham Gabungan (IHSG) sore ini ...</td>\n",
              "    </tr>\n",
              "    <tr>\n",
              "      <th>17</th>\n",
              "      <td>IHSG Masih Loyo| Makin Jauh dari Level 7.000</td>\n",
              "      <td>detikFinanceSelasa</td>\n",
              "      <td>11 Okt 2022 09:12 WIB</td>\n",
              "      <td>Indeks Harga Saham Gabungan (IHSG) pagi ini ...</td>\n",
              "    </tr>\n",
              "    <tr>\n",
              "      <th>18</th>\n",
              "      <td>IHSG Diramal Melorot ke 6.000-an| Intip Saham-...</td>\n",
              "      <td>detikFinanceSelasa</td>\n",
              "      <td>11 Okt 2022 09:00 WIB</td>\n",
              "      <td>Untuk hari ini IHSG diprediksi bergerak mixe...</td>\n",
              "    </tr>\n",
              "    <tr>\n",
              "      <th>19</th>\n",
              "      <td>IHSG Diramal Lesu| Masalah Ini Jadi Pemicu</td>\n",
              "      <td>detikFinanceSelasa</td>\n",
              "      <td>11 Okt 2022 08:49 WIB</td>\n",
              "      <td>Untuk hari ini IHSG diprediksi melemah. Sima...</td>\n",
              "    </tr>\n",
              "    <tr>\n",
              "      <th>20</th>\n",
              "      <td>Dolar AS Keok Lawan Rupiah| tapi Masih Betah d...</td>\n",
              "      <td>detikFinanceSenin</td>\n",
              "      <td>10 Okt 2022 10:09 WIB</td>\n",
              "      <td>Nilai tukar dolar Amerika Serikat (AS) terha...</td>\n",
              "    </tr>\n",
              "    <tr>\n",
              "      <th>21</th>\n",
              "      <td>Makin Loyo| IHSG Dibuka Merosot ke Posisi 6.986</td>\n",
              "      <td>detikFinanceSenin</td>\n",
              "      <td>10 Okt 2022 09:20 WIB</td>\n",
              "      <td>Indeks Harga Saham Gabungan (IHSG) pagi ini ...</td>\n",
              "    </tr>\n",
              "    <tr>\n",
              "      <th>22</th>\n",
              "      <td>IHSG Diramal Melemah tapi Masih di Kisaran 7.000</td>\n",
              "      <td>detikFinanceSenin</td>\n",
              "      <td>10 Okt 2022 09:04 WIB</td>\n",
              "      <td>Bagaimana dengan ramalan pergerakan IHSG har...</td>\n",
              "    </tr>\n",
              "    <tr>\n",
              "      <th>23</th>\n",
              "      <td>IHSG Hari Ini Balik Arah| Dibuka di Zona Merah</td>\n",
              "      <td>detikFinanceJumat</td>\n",
              "      <td>07 Okt 2022 09:17 WIB</td>\n",
              "      <td>Indeks Harga Saham Gabungan (IHSG) pagi ini ...</td>\n",
              "    </tr>\n",
              "    <tr>\n",
              "      <th>24</th>\n",
              "      <td>Ditutup di Zona Hijau| Penguatan IHSG Menciut</td>\n",
              "      <td>detikFinanceKamis</td>\n",
              "      <td>06 Okt 2022 16:31 WIB</td>\n",
              "      <td>Indeks Harga Saham Gabungan (IHSG) pada sore...</td>\n",
              "    </tr>\n",
              "    <tr>\n",
              "      <th>25</th>\n",
              "      <td>Hattrick! IHSG 3 Hari Dibuka Menguat Lagi</td>\n",
              "      <td>detikFinanceKamis</td>\n",
              "      <td>06 Okt 2022 09:19 WIB</td>\n",
              "      <td>Indeks Harga Saham Gabungan (IHSG) pagi ini ...</td>\n",
              "    </tr>\n",
              "    <tr>\n",
              "      <th>26</th>\n",
              "      <td>Intip Ramalan Laju IHSG Hari Ini</td>\n",
              "      <td>detikFinanceKamis</td>\n",
              "      <td>06 Okt 2022 08:45 WIB</td>\n",
              "      <td>IHSG diramal bakal bergerak mixed dalam leve...</td>\n",
              "    </tr>\n",
              "    <tr>\n",
              "      <th>27</th>\n",
              "      <td>Seharian Hijau| IHSG Parkir di 7.075</td>\n",
              "      <td>detikFinanceRabu</td>\n",
              "      <td>05 Okt 2022 15:52 WIB</td>\n",
              "      <td>Indeks Harga Saham Gabungan (IHSG) pada sore...</td>\n",
              "    </tr>\n",
              "    <tr>\n",
              "      <th>28</th>\n",
              "      <td>Kompak dengan Bursa Asia| IHSG Menguat Lagi</td>\n",
              "      <td>detikFinanceRabu</td>\n",
              "      <td>05 Okt 2022 09:12 WIB</td>\n",
              "      <td>Indeks Harga Saham Gabungan (IHSG) pada pagi...</td>\n",
              "    </tr>\n",
              "    <tr>\n",
              "      <th>29</th>\n",
              "      <td>IHSG Ijo Royo-royo| Kini Parkir di 7.072</td>\n",
              "      <td>detikFinanceSelasa</td>\n",
              "      <td>04 Okt 2022 16:33 WIB</td>\n",
              "      <td>Indeks Harga Saham Gabungan pada sore ini di...</td>\n",
              "    </tr>\n",
              "    <tr>\n",
              "      <th>30</th>\n",
              "      <td>Rebound| IHSG Lompat ke 7.069!</td>\n",
              "      <td>detikFinanceSelasa</td>\n",
              "      <td>04 Okt 2022 09:18 WIB</td>\n",
              "      <td>Indeks Harga Saham Gabungan (IHSG) pada pagi...</td>\n",
              "    </tr>\n",
              "    <tr>\n",
              "      <th>31</th>\n",
              "      <td>Melemah Lagi| IHSG Ditutup Ambles</td>\n",
              "      <td>detikFinanceSenin</td>\n",
              "      <td>03 Okt 2022 15:27 WIB</td>\n",
              "      <td>Indeks harga saham gabungan (IHSG) ditutup m...</td>\n",
              "    </tr>\n",
              "    <tr>\n",
              "      <th>32</th>\n",
              "      <td>IHSG Terjun| Sempat Tinggalkan Level 7.000</td>\n",
              "      <td>detikFinanceSenin</td>\n",
              "      <td>03 Okt 2022 09:10 WIB</td>\n",
              "      <td>Indeks Harga Saham Gabungan (IHSG) pada pagi...</td>\n",
              "    </tr>\n",
              "    <tr>\n",
              "      <th>33</th>\n",
              "      <td>Ambles! IHSG Lengser dari Level 7.000</td>\n",
              "      <td>detikFinanceJumat</td>\n",
              "      <td>30 Sep 2022 09:42 WIB</td>\n",
              "      <td>Indeks Harga Saham Gabungan (IHSG) masih mel...</td>\n",
              "    </tr>\n",
              "    <tr>\n",
              "      <th>34</th>\n",
              "      <td>Pecah Telur 3 Hari! IHSG Akhirnya Dibuka Menguat</td>\n",
              "      <td>detikFinanceKamis</td>\n",
              "      <td>29 Sep 2022 09:11 WIB</td>\n",
              "      <td>Indeks Harga Saham Gabungan (IHSG) pada pagi...</td>\n",
              "    </tr>\n",
              "    <tr>\n",
              "      <th>35</th>\n",
              "      <td>Kondisi Ekonomi Memprihatinkan| Rupiah Anjlok ...</td>\n",
              "      <td>detikSumutRabu</td>\n",
              "      <td>28 Sep 2022 17:40 WIB</td>\n",
              "      <td>Nilai tukar rupiah terhadap dolar AS saat in...</td>\n",
              "    </tr>\n",
              "  </tbody>\n",
              "</table>\n",
              "</div>\n",
              "      <button class=\"colab-df-convert\" onclick=\"convertToInteractive('df-d74ae534-5347-459a-ac10-50aaff19ad22')\"\n",
              "              title=\"Convert this dataframe to an interactive table.\"\n",
              "              style=\"display:none;\">\n",
              "        \n",
              "  <svg xmlns=\"http://www.w3.org/2000/svg\" height=\"24px\"viewBox=\"0 0 24 24\"\n",
              "       width=\"24px\">\n",
              "    <path d=\"M0 0h24v24H0V0z\" fill=\"none\"/>\n",
              "    <path d=\"M18.56 5.44l.94 2.06.94-2.06 2.06-.94-2.06-.94-.94-2.06-.94 2.06-2.06.94zm-11 1L8.5 8.5l.94-2.06 2.06-.94-2.06-.94L8.5 2.5l-.94 2.06-2.06.94zm10 10l.94 2.06.94-2.06 2.06-.94-2.06-.94-.94-2.06-.94 2.06-2.06.94z\"/><path d=\"M17.41 7.96l-1.37-1.37c-.4-.4-.92-.59-1.43-.59-.52 0-1.04.2-1.43.59L10.3 9.45l-7.72 7.72c-.78.78-.78 2.05 0 2.83L4 21.41c.39.39.9.59 1.41.59.51 0 1.02-.2 1.41-.59l7.78-7.78 2.81-2.81c.8-.78.8-2.07 0-2.86zM5.41 20L4 18.59l7.72-7.72 1.47 1.35L5.41 20z\"/>\n",
              "  </svg>\n",
              "      </button>\n",
              "      \n",
              "  <style>\n",
              "    .colab-df-container {\n",
              "      display:flex;\n",
              "      flex-wrap:wrap;\n",
              "      gap: 12px;\n",
              "    }\n",
              "\n",
              "    .colab-df-convert {\n",
              "      background-color: #E8F0FE;\n",
              "      border: none;\n",
              "      border-radius: 50%;\n",
              "      cursor: pointer;\n",
              "      display: none;\n",
              "      fill: #1967D2;\n",
              "      height: 32px;\n",
              "      padding: 0 0 0 0;\n",
              "      width: 32px;\n",
              "    }\n",
              "\n",
              "    .colab-df-convert:hover {\n",
              "      background-color: #E2EBFA;\n",
              "      box-shadow: 0px 1px 2px rgba(60, 64, 67, 0.3), 0px 1px 3px 1px rgba(60, 64, 67, 0.15);\n",
              "      fill: #174EA6;\n",
              "    }\n",
              "\n",
              "    [theme=dark] .colab-df-convert {\n",
              "      background-color: #3B4455;\n",
              "      fill: #D2E3FC;\n",
              "    }\n",
              "\n",
              "    [theme=dark] .colab-df-convert:hover {\n",
              "      background-color: #434B5C;\n",
              "      box-shadow: 0px 1px 3px 1px rgba(0, 0, 0, 0.15);\n",
              "      filter: drop-shadow(0px 1px 2px rgba(0, 0, 0, 0.3));\n",
              "      fill: #FFFFFF;\n",
              "    }\n",
              "  </style>\n",
              "\n",
              "      <script>\n",
              "        const buttonEl =\n",
              "          document.querySelector('#df-d74ae534-5347-459a-ac10-50aaff19ad22 button.colab-df-convert');\n",
              "        buttonEl.style.display =\n",
              "          google.colab.kernel.accessAllowed ? 'block' : 'none';\n",
              "\n",
              "        async function convertToInteractive(key) {\n",
              "          const element = document.querySelector('#df-d74ae534-5347-459a-ac10-50aaff19ad22');\n",
              "          const dataTable =\n",
              "            await google.colab.kernel.invokeFunction('convertToInteractive',\n",
              "                                                     [key], {});\n",
              "          if (!dataTable) return;\n",
              "\n",
              "          const docLinkHtml = 'Like what you see? Visit the ' +\n",
              "            '<a target=\"_blank\" href=https://colab.research.google.com/notebooks/data_table.ipynb>data table notebook</a>'\n",
              "            + ' to learn more about interactive tables.';\n",
              "          element.innerHTML = '';\n",
              "          dataTable['output_type'] = 'display_data';\n",
              "          await google.colab.output.renderOutput(dataTable, element);\n",
              "          const docLink = document.createElement('div');\n",
              "          docLink.innerHTML = docLinkHtml;\n",
              "          element.appendChild(docLink);\n",
              "        }\n",
              "      </script>\n",
              "    </div>\n",
              "  </div>\n",
              "  "
            ]
          },
          "metadata": {},
          "execution_count": 50
        }
      ]
    },
    {
      "cell_type": "markdown",
      "source": [
        "## Preprocessing Text\n",
        "Langkah pertama adalah mengubah ulasan ini menjadi matriks istilah dokumen atau document-term matrix.\n",
        "\n",
        "Untuk itu, kita harus melakukan beberapa preprocessing pada teks. Ini memerlukan huruf kecil semua teks, menghapus tanda baca, menghentikan kata, kata-kata pendek (yaitu kata-kata kurang dari 3 karakter), dan mengurangi setiap kata ke bentuk dasarnya dengan stemming.\n",
        "\n",
        "Semua ini dapat dicapai dengan fungsi preprocess_string, yang mengubah teks tertentu menjadi daftar token yang diproses."
      ],
      "metadata": {
        "id": "3SJamjb4O12l"
      }
    },
    {
      "cell_type": "code",
      "source": [
        "import pandas as pd\n",
        "\n",
        "# load data\n",
        "df = pd.read_csv('result.csv', usecols=['Summary'])\n",
        "df"
      ],
      "metadata": {
        "colab": {
          "base_uri": "https://localhost:8080/",
          "height": 1000
        },
        "id": "rRwQo7IZPXdC",
        "outputId": "327b3295-0a67-454a-f53e-58459a5ede08"
      },
      "execution_count": null,
      "outputs": [
        {
          "output_type": "execute_result",
          "data": {
            "text/plain": [
              "                                              Summary\n",
              "0     Indeks Harga Saham Gabungan (IHSG) hari ini ...\n",
              "1     Indeks Harga Saham Gabungan (IHSG) hari ini ...\n",
              "2     Indeks Harga Saham Gabungan (IHSG) hari ini ...\n",
              "3     Indeks Harga Saham Gabungan (IHSG) hari ini ...\n",
              "4     IHSG berhasil kembali ke level 7.006. IHSG b...\n",
              "5     IHSG sempat menyentuh zona merah dan berbali...\n",
              "6     Indeks harga saham gabungan (IHSG) ditutup m...\n",
              "7     Indeks Harga Saham Gabungan (IHSG) pagi ini ...\n",
              "8     Blibli mantap melantai di Bursa Efek Indones...\n",
              "9     Indeks harga saham gabungan (IHSG) ditutup m...\n",
              "10    Indeks Harga Saham Gabungan (IHSG) pagi ini ...\n",
              "11    Indeks Harga Saham Gabungan (IHSG) pagi ini ...\n",
              "12    Presiden Joko Widodo (Jokowi) berpesan kepad...\n",
              "13    Indeks Harga Saham Gabungan (IHSG) pagi ini ...\n",
              "14    Indeks Harga Saham Gabungan (IHSG) sore ini ...\n",
              "15    Indeks Harga Saham Gabungan (IHSG) pagi ini ...\n",
              "16    Indeks Harga Saham Gabungan (IHSG) sore ini ...\n",
              "17    Indeks Harga Saham Gabungan (IHSG) pagi ini ...\n",
              "18    Untuk hari ini IHSG diprediksi bergerak mixe...\n",
              "19    Untuk hari ini IHSG diprediksi melemah. Sima...\n",
              "20    Nilai tukar dolar Amerika Serikat (AS) terha...\n",
              "21    Indeks Harga Saham Gabungan (IHSG) pagi ini ...\n",
              "22    Bagaimana dengan ramalan pergerakan IHSG har...\n",
              "23    Indeks Harga Saham Gabungan (IHSG) pagi ini ...\n",
              "24    Indeks Harga Saham Gabungan (IHSG) pada sore...\n",
              "25    Indeks Harga Saham Gabungan (IHSG) pagi ini ...\n",
              "26    IHSG diramal bakal bergerak mixed dalam leve...\n",
              "27    Indeks Harga Saham Gabungan (IHSG) pada sore...\n",
              "28    Indeks Harga Saham Gabungan (IHSG) pada pagi...\n",
              "29    Indeks Harga Saham Gabungan pada sore ini di...\n",
              "30    Indeks Harga Saham Gabungan (IHSG) pada pagi...\n",
              "31    Indeks harga saham gabungan (IHSG) ditutup m...\n",
              "32    Indeks Harga Saham Gabungan (IHSG) pada pagi...\n",
              "33    Indeks Harga Saham Gabungan (IHSG) masih mel...\n",
              "34    Indeks Harga Saham Gabungan (IHSG) pada pagi...\n",
              "35    Nilai tukar rupiah terhadap dolar AS saat in..."
            ],
            "text/html": [
              "\n",
              "  <div id=\"df-eb8f67b0-da6f-44d2-8bc8-5e235b1933c2\">\n",
              "    <div class=\"colab-df-container\">\n",
              "      <div>\n",
              "<style scoped>\n",
              "    .dataframe tbody tr th:only-of-type {\n",
              "        vertical-align: middle;\n",
              "    }\n",
              "\n",
              "    .dataframe tbody tr th {\n",
              "        vertical-align: top;\n",
              "    }\n",
              "\n",
              "    .dataframe thead th {\n",
              "        text-align: right;\n",
              "    }\n",
              "</style>\n",
              "<table border=\"1\" class=\"dataframe\">\n",
              "  <thead>\n",
              "    <tr style=\"text-align: right;\">\n",
              "      <th></th>\n",
              "      <th>Summary</th>\n",
              "    </tr>\n",
              "  </thead>\n",
              "  <tbody>\n",
              "    <tr>\n",
              "      <th>0</th>\n",
              "      <td>Indeks Harga Saham Gabungan (IHSG) hari ini ...</td>\n",
              "    </tr>\n",
              "    <tr>\n",
              "      <th>1</th>\n",
              "      <td>Indeks Harga Saham Gabungan (IHSG) hari ini ...</td>\n",
              "    </tr>\n",
              "    <tr>\n",
              "      <th>2</th>\n",
              "      <td>Indeks Harga Saham Gabungan (IHSG) hari ini ...</td>\n",
              "    </tr>\n",
              "    <tr>\n",
              "      <th>3</th>\n",
              "      <td>Indeks Harga Saham Gabungan (IHSG) hari ini ...</td>\n",
              "    </tr>\n",
              "    <tr>\n",
              "      <th>4</th>\n",
              "      <td>IHSG berhasil kembali ke level 7.006. IHSG b...</td>\n",
              "    </tr>\n",
              "    <tr>\n",
              "      <th>5</th>\n",
              "      <td>IHSG sempat menyentuh zona merah dan berbali...</td>\n",
              "    </tr>\n",
              "    <tr>\n",
              "      <th>6</th>\n",
              "      <td>Indeks harga saham gabungan (IHSG) ditutup m...</td>\n",
              "    </tr>\n",
              "    <tr>\n",
              "      <th>7</th>\n",
              "      <td>Indeks Harga Saham Gabungan (IHSG) pagi ini ...</td>\n",
              "    </tr>\n",
              "    <tr>\n",
              "      <th>8</th>\n",
              "      <td>Blibli mantap melantai di Bursa Efek Indones...</td>\n",
              "    </tr>\n",
              "    <tr>\n",
              "      <th>9</th>\n",
              "      <td>Indeks harga saham gabungan (IHSG) ditutup m...</td>\n",
              "    </tr>\n",
              "    <tr>\n",
              "      <th>10</th>\n",
              "      <td>Indeks Harga Saham Gabungan (IHSG) pagi ini ...</td>\n",
              "    </tr>\n",
              "    <tr>\n",
              "      <th>11</th>\n",
              "      <td>Indeks Harga Saham Gabungan (IHSG) pagi ini ...</td>\n",
              "    </tr>\n",
              "    <tr>\n",
              "      <th>12</th>\n",
              "      <td>Presiden Joko Widodo (Jokowi) berpesan kepad...</td>\n",
              "    </tr>\n",
              "    <tr>\n",
              "      <th>13</th>\n",
              "      <td>Indeks Harga Saham Gabungan (IHSG) pagi ini ...</td>\n",
              "    </tr>\n",
              "    <tr>\n",
              "      <th>14</th>\n",
              "      <td>Indeks Harga Saham Gabungan (IHSG) sore ini ...</td>\n",
              "    </tr>\n",
              "    <tr>\n",
              "      <th>15</th>\n",
              "      <td>Indeks Harga Saham Gabungan (IHSG) pagi ini ...</td>\n",
              "    </tr>\n",
              "    <tr>\n",
              "      <th>16</th>\n",
              "      <td>Indeks Harga Saham Gabungan (IHSG) sore ini ...</td>\n",
              "    </tr>\n",
              "    <tr>\n",
              "      <th>17</th>\n",
              "      <td>Indeks Harga Saham Gabungan (IHSG) pagi ini ...</td>\n",
              "    </tr>\n",
              "    <tr>\n",
              "      <th>18</th>\n",
              "      <td>Untuk hari ini IHSG diprediksi bergerak mixe...</td>\n",
              "    </tr>\n",
              "    <tr>\n",
              "      <th>19</th>\n",
              "      <td>Untuk hari ini IHSG diprediksi melemah. Sima...</td>\n",
              "    </tr>\n",
              "    <tr>\n",
              "      <th>20</th>\n",
              "      <td>Nilai tukar dolar Amerika Serikat (AS) terha...</td>\n",
              "    </tr>\n",
              "    <tr>\n",
              "      <th>21</th>\n",
              "      <td>Indeks Harga Saham Gabungan (IHSG) pagi ini ...</td>\n",
              "    </tr>\n",
              "    <tr>\n",
              "      <th>22</th>\n",
              "      <td>Bagaimana dengan ramalan pergerakan IHSG har...</td>\n",
              "    </tr>\n",
              "    <tr>\n",
              "      <th>23</th>\n",
              "      <td>Indeks Harga Saham Gabungan (IHSG) pagi ini ...</td>\n",
              "    </tr>\n",
              "    <tr>\n",
              "      <th>24</th>\n",
              "      <td>Indeks Harga Saham Gabungan (IHSG) pada sore...</td>\n",
              "    </tr>\n",
              "    <tr>\n",
              "      <th>25</th>\n",
              "      <td>Indeks Harga Saham Gabungan (IHSG) pagi ini ...</td>\n",
              "    </tr>\n",
              "    <tr>\n",
              "      <th>26</th>\n",
              "      <td>IHSG diramal bakal bergerak mixed dalam leve...</td>\n",
              "    </tr>\n",
              "    <tr>\n",
              "      <th>27</th>\n",
              "      <td>Indeks Harga Saham Gabungan (IHSG) pada sore...</td>\n",
              "    </tr>\n",
              "    <tr>\n",
              "      <th>28</th>\n",
              "      <td>Indeks Harga Saham Gabungan (IHSG) pada pagi...</td>\n",
              "    </tr>\n",
              "    <tr>\n",
              "      <th>29</th>\n",
              "      <td>Indeks Harga Saham Gabungan pada sore ini di...</td>\n",
              "    </tr>\n",
              "    <tr>\n",
              "      <th>30</th>\n",
              "      <td>Indeks Harga Saham Gabungan (IHSG) pada pagi...</td>\n",
              "    </tr>\n",
              "    <tr>\n",
              "      <th>31</th>\n",
              "      <td>Indeks harga saham gabungan (IHSG) ditutup m...</td>\n",
              "    </tr>\n",
              "    <tr>\n",
              "      <th>32</th>\n",
              "      <td>Indeks Harga Saham Gabungan (IHSG) pada pagi...</td>\n",
              "    </tr>\n",
              "    <tr>\n",
              "      <th>33</th>\n",
              "      <td>Indeks Harga Saham Gabungan (IHSG) masih mel...</td>\n",
              "    </tr>\n",
              "    <tr>\n",
              "      <th>34</th>\n",
              "      <td>Indeks Harga Saham Gabungan (IHSG) pada pagi...</td>\n",
              "    </tr>\n",
              "    <tr>\n",
              "      <th>35</th>\n",
              "      <td>Nilai tukar rupiah terhadap dolar AS saat in...</td>\n",
              "    </tr>\n",
              "  </tbody>\n",
              "</table>\n",
              "</div>\n",
              "      <button class=\"colab-df-convert\" onclick=\"convertToInteractive('df-eb8f67b0-da6f-44d2-8bc8-5e235b1933c2')\"\n",
              "              title=\"Convert this dataframe to an interactive table.\"\n",
              "              style=\"display:none;\">\n",
              "        \n",
              "  <svg xmlns=\"http://www.w3.org/2000/svg\" height=\"24px\"viewBox=\"0 0 24 24\"\n",
              "       width=\"24px\">\n",
              "    <path d=\"M0 0h24v24H0V0z\" fill=\"none\"/>\n",
              "    <path d=\"M18.56 5.44l.94 2.06.94-2.06 2.06-.94-2.06-.94-.94-2.06-.94 2.06-2.06.94zm-11 1L8.5 8.5l.94-2.06 2.06-.94-2.06-.94L8.5 2.5l-.94 2.06-2.06.94zm10 10l.94 2.06.94-2.06 2.06-.94-2.06-.94-.94-2.06-.94 2.06-2.06.94z\"/><path d=\"M17.41 7.96l-1.37-1.37c-.4-.4-.92-.59-1.43-.59-.52 0-1.04.2-1.43.59L10.3 9.45l-7.72 7.72c-.78.78-.78 2.05 0 2.83L4 21.41c.39.39.9.59 1.41.59.51 0 1.02-.2 1.41-.59l7.78-7.78 2.81-2.81c.8-.78.8-2.07 0-2.86zM5.41 20L4 18.59l7.72-7.72 1.47 1.35L5.41 20z\"/>\n",
              "  </svg>\n",
              "      </button>\n",
              "      \n",
              "  <style>\n",
              "    .colab-df-container {\n",
              "      display:flex;\n",
              "      flex-wrap:wrap;\n",
              "      gap: 12px;\n",
              "    }\n",
              "\n",
              "    .colab-df-convert {\n",
              "      background-color: #E8F0FE;\n",
              "      border: none;\n",
              "      border-radius: 50%;\n",
              "      cursor: pointer;\n",
              "      display: none;\n",
              "      fill: #1967D2;\n",
              "      height: 32px;\n",
              "      padding: 0 0 0 0;\n",
              "      width: 32px;\n",
              "    }\n",
              "\n",
              "    .colab-df-convert:hover {\n",
              "      background-color: #E2EBFA;\n",
              "      box-shadow: 0px 1px 2px rgba(60, 64, 67, 0.3), 0px 1px 3px 1px rgba(60, 64, 67, 0.15);\n",
              "      fill: #174EA6;\n",
              "    }\n",
              "\n",
              "    [theme=dark] .colab-df-convert {\n",
              "      background-color: #3B4455;\n",
              "      fill: #D2E3FC;\n",
              "    }\n",
              "\n",
              "    [theme=dark] .colab-df-convert:hover {\n",
              "      background-color: #434B5C;\n",
              "      box-shadow: 0px 1px 3px 1px rgba(0, 0, 0, 0.15);\n",
              "      filter: drop-shadow(0px 1px 2px rgba(0, 0, 0, 0.3));\n",
              "      fill: #FFFFFF;\n",
              "    }\n",
              "  </style>\n",
              "\n",
              "      <script>\n",
              "        const buttonEl =\n",
              "          document.querySelector('#df-eb8f67b0-da6f-44d2-8bc8-5e235b1933c2 button.colab-df-convert');\n",
              "        buttonEl.style.display =\n",
              "          google.colab.kernel.accessAllowed ? 'block' : 'none';\n",
              "\n",
              "        async function convertToInteractive(key) {\n",
              "          const element = document.querySelector('#df-eb8f67b0-da6f-44d2-8bc8-5e235b1933c2');\n",
              "          const dataTable =\n",
              "            await google.colab.kernel.invokeFunction('convertToInteractive',\n",
              "                                                     [key], {});\n",
              "          if (!dataTable) return;\n",
              "\n",
              "          const docLinkHtml = 'Like what you see? Visit the ' +\n",
              "            '<a target=\"_blank\" href=https://colab.research.google.com/notebooks/data_table.ipynb>data table notebook</a>'\n",
              "            + ' to learn more about interactive tables.';\n",
              "          element.innerHTML = '';\n",
              "          dataTable['output_type'] = 'display_data';\n",
              "          await google.colab.output.renderOutput(dataTable, element);\n",
              "          const docLink = document.createElement('div');\n",
              "          docLink.innerHTML = docLinkHtml;\n",
              "          element.appendChild(docLink);\n",
              "        }\n",
              "      </script>\n",
              "    </div>\n",
              "  </div>\n",
              "  "
            ]
          },
          "metadata": {},
          "execution_count": 51
        }
      ]
    },
    {
      "cell_type": "markdown",
      "source": [
        "### Cleaning Text\n",
        "Preprocessing yang dibutuhkan dalam melakukan LSA adalah hanya membuat kata menjadi lower, melakukan stopwords, menghapus tanda baca, menghentikan kata, kata-kata pendek (yaitu kata-kata kurang dari 3 karakter), dan mengurangi setiap kata ke bentuk dasarnya dengan stemming."
      ],
      "metadata": {
        "id": "_UlDc7SjQOCy"
      }
    },
    {
      "cell_type": "code",
      "source": [
        "#import nltk\n",
        "import nltk\n",
        "nltk.download('stopwords')\n",
        "nltk.download('punkt')\n",
        "nltk.download('wordnet')\n",
        "nltk.download('omw-1.4')\n",
        "from nltk.corpus import stopwords\n",
        "from nltk.tokenize import word_tokenize,sent_tokenize\n",
        "\n",
        "#preprocessing\n",
        "from nltk.corpus import stopwords  #stopwords\n",
        "from nltk import word_tokenize,sent_tokenize # tokenizing\n",
        "from nltk.stem import PorterStemmer,LancasterStemmer  # using the Porter Stemmer and Lancaster Stemmer and others\n",
        "from nltk.stem.snowball import SnowballStemmer\n",
        "from nltk.stem import WordNetLemmatizer  # lammatizer from WordNet\n",
        "\n",
        "# for named entity recognition (NER)\n",
        "from nltk import ne_chunk\n",
        "\n",
        "#stop-words\n",
        "stop_words=set(nltk.corpus.stopwords.words('indonesian'))\n",
        "\n",
        "# vectorizers for creating the document-term-matrix (DTM)\n",
        "from sklearn.feature_extraction.text import TfidfVectorizer,CountVectorizer"
      ],
      "metadata": {
        "colab": {
          "base_uri": "https://localhost:8080/"
        },
        "id": "_fozIl2FJ9YH",
        "outputId": "513a4c53-faa1-44eb-f662-af4d7640af69"
      },
      "execution_count": null,
      "outputs": [
        {
          "output_type": "stream",
          "name": "stderr",
          "text": [
            "[nltk_data] Downloading package stopwords to /root/nltk_data...\n",
            "[nltk_data]   Package stopwords is already up-to-date!\n",
            "[nltk_data] Downloading package punkt to /root/nltk_data...\n",
            "[nltk_data]   Package punkt is already up-to-date!\n",
            "[nltk_data] Downloading package wordnet to /root/nltk_data...\n",
            "[nltk_data]   Package wordnet is already up-to-date!\n",
            "[nltk_data] Downloading package omw-1.4 to /root/nltk_data...\n",
            "[nltk_data]   Package omw-1.4 is already up-to-date!\n"
          ]
        }
      ]
    },
    {
      "cell_type": "code",
      "source": [
        "def clean_text(headline):\n",
        "  le=WordNetLemmatizer()\n",
        "  word_tokens=word_tokenize(headline)\n",
        "  tokens=[le.lemmatize(w) for w in word_tokens if w not in stop_words and len(w)>3]\n",
        "  cleaned_text=\" \".join(tokens)\n",
        "  return cleaned_text"
      ],
      "metadata": {
        "id": "Y2YNEkySPQKZ"
      },
      "execution_count": null,
      "outputs": []
    },
    {
      "cell_type": "code",
      "source": [
        "# time taking\n",
        "df['headline_cleaned_text']=df['Summary'].apply(clean_text)"
      ],
      "metadata": {
        "id": "nvt-PiqJJtUq"
      },
      "execution_count": null,
      "outputs": []
    },
    {
      "cell_type": "markdown",
      "source": [
        "### Preview Dataset\n",
        "Melihat Hasil Preprocessing Teks"
      ],
      "metadata": {
        "id": "4yceCwWnQh8P"
      }
    },
    {
      "cell_type": "code",
      "source": [
        "# preview of dataset\n",
        "df.head()"
      ],
      "metadata": {
        "colab": {
          "base_uri": "https://localhost:8080/",
          "height": 206
        },
        "id": "eGDkueKlP0Q4",
        "outputId": "d7b47d7e-33d4-495f-eca5-0a58ca61502d"
      },
      "execution_count": null,
      "outputs": [
        {
          "output_type": "execute_result",
          "data": {
            "text/plain": [
              "                                             Summary  \\\n",
              "0    Indeks Harga Saham Gabungan (IHSG) hari ini ...   \n",
              "1    Indeks Harga Saham Gabungan (IHSG) hari ini ...   \n",
              "2    Indeks Harga Saham Gabungan (IHSG) hari ini ...   \n",
              "3    Indeks Harga Saham Gabungan (IHSG) hari ini ...   \n",
              "4    IHSG berhasil kembali ke level 7.006. IHSG b...   \n",
              "\n",
              "                               headline_cleaned_text  \n",
              "0  Indeks Harga Saham Gabungan IHSG dibuka mengua...  \n",
              "1  Indeks Harga Saham Gabungan IHSG ditutup mengu...  \n",
              "2  Indeks Harga Saham Gabungan IHSG dibuka mengua...  \n",
              "3  Indeks Harga Saham Gabungan IHSG ditutup mengu...  \n",
              "4  IHSG berhasil level 7.006 IHSG level tertinggi...  "
            ],
            "text/html": [
              "\n",
              "  <div id=\"df-364cc060-d523-4331-b47b-ab8bbbdb9442\">\n",
              "    <div class=\"colab-df-container\">\n",
              "      <div>\n",
              "<style scoped>\n",
              "    .dataframe tbody tr th:only-of-type {\n",
              "        vertical-align: middle;\n",
              "    }\n",
              "\n",
              "    .dataframe tbody tr th {\n",
              "        vertical-align: top;\n",
              "    }\n",
              "\n",
              "    .dataframe thead th {\n",
              "        text-align: right;\n",
              "    }\n",
              "</style>\n",
              "<table border=\"1\" class=\"dataframe\">\n",
              "  <thead>\n",
              "    <tr style=\"text-align: right;\">\n",
              "      <th></th>\n",
              "      <th>Summary</th>\n",
              "      <th>headline_cleaned_text</th>\n",
              "    </tr>\n",
              "  </thead>\n",
              "  <tbody>\n",
              "    <tr>\n",
              "      <th>0</th>\n",
              "      <td>Indeks Harga Saham Gabungan (IHSG) hari ini ...</td>\n",
              "      <td>Indeks Harga Saham Gabungan IHSG dibuka mengua...</td>\n",
              "    </tr>\n",
              "    <tr>\n",
              "      <th>1</th>\n",
              "      <td>Indeks Harga Saham Gabungan (IHSG) hari ini ...</td>\n",
              "      <td>Indeks Harga Saham Gabungan IHSG ditutup mengu...</td>\n",
              "    </tr>\n",
              "    <tr>\n",
              "      <th>2</th>\n",
              "      <td>Indeks Harga Saham Gabungan (IHSG) hari ini ...</td>\n",
              "      <td>Indeks Harga Saham Gabungan IHSG dibuka mengua...</td>\n",
              "    </tr>\n",
              "    <tr>\n",
              "      <th>3</th>\n",
              "      <td>Indeks Harga Saham Gabungan (IHSG) hari ini ...</td>\n",
              "      <td>Indeks Harga Saham Gabungan IHSG ditutup mengu...</td>\n",
              "    </tr>\n",
              "    <tr>\n",
              "      <th>4</th>\n",
              "      <td>IHSG berhasil kembali ke level 7.006. IHSG b...</td>\n",
              "      <td>IHSG berhasil level 7.006 IHSG level tertinggi...</td>\n",
              "    </tr>\n",
              "  </tbody>\n",
              "</table>\n",
              "</div>\n",
              "      <button class=\"colab-df-convert\" onclick=\"convertToInteractive('df-364cc060-d523-4331-b47b-ab8bbbdb9442')\"\n",
              "              title=\"Convert this dataframe to an interactive table.\"\n",
              "              style=\"display:none;\">\n",
              "        \n",
              "  <svg xmlns=\"http://www.w3.org/2000/svg\" height=\"24px\"viewBox=\"0 0 24 24\"\n",
              "       width=\"24px\">\n",
              "    <path d=\"M0 0h24v24H0V0z\" fill=\"none\"/>\n",
              "    <path d=\"M18.56 5.44l.94 2.06.94-2.06 2.06-.94-2.06-.94-.94-2.06-.94 2.06-2.06.94zm-11 1L8.5 8.5l.94-2.06 2.06-.94-2.06-.94L8.5 2.5l-.94 2.06-2.06.94zm10 10l.94 2.06.94-2.06 2.06-.94-2.06-.94-.94-2.06-.94 2.06-2.06.94z\"/><path d=\"M17.41 7.96l-1.37-1.37c-.4-.4-.92-.59-1.43-.59-.52 0-1.04.2-1.43.59L10.3 9.45l-7.72 7.72c-.78.78-.78 2.05 0 2.83L4 21.41c.39.39.9.59 1.41.59.51 0 1.02-.2 1.41-.59l7.78-7.78 2.81-2.81c.8-.78.8-2.07 0-2.86zM5.41 20L4 18.59l7.72-7.72 1.47 1.35L5.41 20z\"/>\n",
              "  </svg>\n",
              "      </button>\n",
              "      \n",
              "  <style>\n",
              "    .colab-df-container {\n",
              "      display:flex;\n",
              "      flex-wrap:wrap;\n",
              "      gap: 12px;\n",
              "    }\n",
              "\n",
              "    .colab-df-convert {\n",
              "      background-color: #E8F0FE;\n",
              "      border: none;\n",
              "      border-radius: 50%;\n",
              "      cursor: pointer;\n",
              "      display: none;\n",
              "      fill: #1967D2;\n",
              "      height: 32px;\n",
              "      padding: 0 0 0 0;\n",
              "      width: 32px;\n",
              "    }\n",
              "\n",
              "    .colab-df-convert:hover {\n",
              "      background-color: #E2EBFA;\n",
              "      box-shadow: 0px 1px 2px rgba(60, 64, 67, 0.3), 0px 1px 3px 1px rgba(60, 64, 67, 0.15);\n",
              "      fill: #174EA6;\n",
              "    }\n",
              "\n",
              "    [theme=dark] .colab-df-convert {\n",
              "      background-color: #3B4455;\n",
              "      fill: #D2E3FC;\n",
              "    }\n",
              "\n",
              "    [theme=dark] .colab-df-convert:hover {\n",
              "      background-color: #434B5C;\n",
              "      box-shadow: 0px 1px 3px 1px rgba(0, 0, 0, 0.15);\n",
              "      filter: drop-shadow(0px 1px 2px rgba(0, 0, 0, 0.3));\n",
              "      fill: #FFFFFF;\n",
              "    }\n",
              "  </style>\n",
              "\n",
              "      <script>\n",
              "        const buttonEl =\n",
              "          document.querySelector('#df-364cc060-d523-4331-b47b-ab8bbbdb9442 button.colab-df-convert');\n",
              "        buttonEl.style.display =\n",
              "          google.colab.kernel.accessAllowed ? 'block' : 'none';\n",
              "\n",
              "        async function convertToInteractive(key) {\n",
              "          const element = document.querySelector('#df-364cc060-d523-4331-b47b-ab8bbbdb9442');\n",
              "          const dataTable =\n",
              "            await google.colab.kernel.invokeFunction('convertToInteractive',\n",
              "                                                     [key], {});\n",
              "          if (!dataTable) return;\n",
              "\n",
              "          const docLinkHtml = 'Like what you see? Visit the ' +\n",
              "            '<a target=\"_blank\" href=https://colab.research.google.com/notebooks/data_table.ipynb>data table notebook</a>'\n",
              "            + ' to learn more about interactive tables.';\n",
              "          element.innerHTML = '';\n",
              "          dataTable['output_type'] = 'display_data';\n",
              "          await google.colab.output.renderOutput(dataTable, element);\n",
              "          const docLink = document.createElement('div');\n",
              "          docLink.innerHTML = docLinkHtml;\n",
              "          element.appendChild(docLink);\n",
              "        }\n",
              "      </script>\n",
              "    </div>\n",
              "  </div>\n",
              "  "
            ]
          },
          "metadata": {},
          "execution_count": 55
        }
      ]
    },
    {
      "cell_type": "markdown",
      "source": [
        "## Mengubah Hasil Preprocessing Menjadi Document Term Matrix\n",
        "Sekarang, kita dapat mengubah ulasan yang telah diproses ini menjadi matriks istilah dokumen dengan model bag of words. Dan Selanjutnya memproses data menjadi sebuah TF-IDF atau Term Frequency."
      ],
      "metadata": {
        "id": "s9m5Szq0Qtom"
      }
    },
    {
      "cell_type": "markdown",
      "source": [
        "### TF-IDF\n",
        "(Term Frequency-Inverse Document Frequency) : Representasi Vector Data Text <br>\n",
        "merupakan metode yang digunakan untuk menentukan nilai frekuensi sebuah kata di dalam sebuah dokumen atau artikel dan juga frekuensi di dalam banyak dokumen. Perhitungan ini menentukan seberapa relevan sebuah kata di dalam sebuah dokumen. <br>\n",
        "\n",
        "Bagaimana TF-IDF bekerja? <br>\n",
        "Pada dasarnya, TF-IDF bekerja dalam menentukan frekuensi relatif suatu kata kemudian dibandingkan dengan proporsi kata tersebut pada seluruh dokumen. Intuisinya bahwa kata yang muncul di banyak dokumen bukanlah pembeda yang baik, dan harus diberi bobot kurang dari satu yang terjadi dalam beberapa dokumen. <br>\n",
        "\n",
        "Rumus TF-IDF <br>\n",
        "Frekuensi istilah, tf(t, d) adalah frekuensi istilah t, <br>\n",
        "<img src =\"https://wikimedia.org/api/rest_v1/media/math/render/svg/09d2ad7109a12acef6a03ad71a8d93f5166e2b3b\">\n",
        "<p>dengan <span class=\"texhtml\" style=\"white-space: nowrap;\"><i>f</i><sub><i>t</i>,<i>d</i></sub></span> adalah <i>pencacahan mentah</i> istilah dalam dokumen, yaitu jumlah kemunculan istilah <span class=\"texhtml mvar\" style=\"font-style:italic;\">t</span> dalam dokumen <span class=\"texhtml mvar\" style=\"font-style:italic;\">d</span>. Semakin sering suatu istilah muncul, semakin besar nilai tf-nya. Terdapat beberapa cara untuk mendefinisikan frekuensi istilah\n"
      ],
      "metadata": {
        "id": "kQCv2Cc2Y4bn"
      }
    },
    {
      "cell_type": "markdown",
      "source": [
        "### Term Frequency \n",
        "Term frequency yaitu jumlah kemunculan sebuah term pada sebuah dokumen. Inverse Document Frequency yaitu pengurangan dominasi term yang sering muncul diberbagai dokumen, dengan memperhitungkan kebalikan frekuensi dokumen yang mengandung suatu kata. <br>\n",
        "\n",
        "Berikut Hasil Term Frequency menggunakan TfidVectorizer"
      ],
      "metadata": {
        "id": "FfNqszHok3cO"
      }
    },
    {
      "cell_type": "code",
      "source": [
        "vect =TfidfVectorizer(stop_words=stop_words,max_features=1000) "
      ],
      "metadata": {
        "id": "cbAI8RU7Iqct"
      },
      "execution_count": null,
      "outputs": []
    },
    {
      "cell_type": "code",
      "source": [
        "vect_text=vect.fit_transform(df['headline_cleaned_text'])"
      ],
      "metadata": {
        "colab": {
          "base_uri": "https://localhost:8080/"
        },
        "id": "7IY8u6XiJR_x",
        "outputId": "e1e06556-3cb6-4d87-bbc0-344004e391ff"
      },
      "execution_count": null,
      "outputs": [
        {
          "output_type": "stream",
          "name": "stderr",
          "text": [
            "/usr/local/lib/python3.7/dist-packages/sklearn/feature_extraction/text.py:401: UserWarning: Your stop_words may be inconsistent with your preprocessing. Tokenizing the stop words generated tokens ['baiknya', 'berkali', 'kali', 'kurangnya', 'mata', 'olah', 'sekurang', 'setidak', 'tama', 'tidaknya'] not in stop_words.\n",
            "  % sorted(inconsistent)\n"
          ]
        }
      ]
    },
    {
      "cell_type": "code",
      "source": [
        "vect_text.toarray()"
      ],
      "metadata": {
        "colab": {
          "base_uri": "https://localhost:8080/"
        },
        "id": "GDP6MGv1TPNE",
        "outputId": "564e53aa-59bc-4ac3-8d86-7709858aff2b"
      },
      "execution_count": null,
      "outputs": [
        {
          "output_type": "execute_result",
          "data": {
            "text/plain": [
              "array([[0.        , 0.        , 0.        , ..., 0.        , 0.        ,\n",
              "        0.19640219],\n",
              "       [0.        , 0.        , 0.        , ..., 0.        , 0.        ,\n",
              "        0.23814747],\n",
              "       [0.34972246, 0.        , 0.        , ..., 0.        , 0.        ,\n",
              "        0.        ],\n",
              "       ...,\n",
              "       [0.36699295, 0.        , 0.        , ..., 0.        , 0.        ,\n",
              "        0.        ],\n",
              "       [0.        , 0.        , 0.        , ..., 0.        , 0.        ,\n",
              "        0.29141666],\n",
              "       [0.        , 0.        , 0.        , ..., 0.23945836, 0.        ,\n",
              "        0.        ]])"
            ]
          },
          "metadata": {},
          "execution_count": 90
        }
      ]
    },
    {
      "cell_type": "markdown",
      "source": [
        "Hasil data term frequency di shape untuk mengatahui hasil matrix."
      ],
      "metadata": {
        "id": "IVfTX1hilKJD"
      }
    },
    {
      "cell_type": "code",
      "source": [
        "print(vect_text.shape)\n",
        "print(vect_text)"
      ],
      "metadata": {
        "colab": {
          "base_uri": "https://localhost:8080/"
        },
        "id": "rrXrrUDnK2kR",
        "outputId": "6d8043ef-f826-4c15-93ee-61bee159fb24"
      },
      "execution_count": null,
      "outputs": [
        {
          "output_type": "stream",
          "name": "stdout",
          "text": [
            "(36, 110)\n",
            "  (0, 50)\t0.3211804714568847\n",
            "  (0, 40)\t0.24040981869654232\n",
            "  (0, 109)\t0.1964021851186655\n",
            "  (0, 82)\t0.3498343165285299\n",
            "  (0, 60)\t0.2807951450767135\n",
            "  (0, 8)\t0.3902196429087011\n",
            "  (0, 56)\t0.2117559736248971\n",
            "  (0, 88)\t0.2521413000050683\n",
            "  (0, 64)\t0.1831021285532519\n",
            "  (0, 30)\t0.4408450434311649\n",
            "  (0, 41)\t0.2160491900173806\n",
            "  (0, 38)\t0.1273630136668491\n",
            "  (0, 97)\t0.12386783152823938\n",
            "  (0, 39)\t0.1273630136668491\n",
            "  (0, 42)\t0.1273630136668491\n",
            "  (1, 98)\t0.3218609126460267\n",
            "  (1, 22)\t0.3057339292712595\n",
            "  (1, 6)\t0.4731608217412492\n",
            "  (1, 35)\t0.2567647024176508\n",
            "  (1, 40)\t0.29150892179903704\n",
            "  (1, 109)\t0.2381474664110318\n",
            "  (1, 56)\t0.2567647024176508\n",
            "  (1, 88)\t0.3057339292712595\n",
            "  (1, 64)\t0.22202048303626462\n",
            "  (1, 41)\t0.26197044188539914\n",
            "  :\t:\n",
            "  (33, 42)\t0.14552979559796708\n",
            "  (34, 79)\t0.5190754303041437\n",
            "  (34, 62)\t0.3141982302352328\n",
            "  (34, 75)\t0.26272279883458616\n",
            "  (34, 40)\t0.35671409062315884\n",
            "  (34, 109)\t0.2914166619352544\n",
            "  (34, 30)\t0.32705743805699367\n",
            "  (34, 41)\t0.3205683976002615\n",
            "  (34, 38)\t0.18897806190079894\n",
            "  (34, 97)\t0.18379199785026937\n",
            "  (34, 39)\t0.18897806190079894\n",
            "  (34, 42)\t0.18897806190079894\n",
            "  (35, 26)\t0.2671017407203712\n",
            "  (35, 51)\t0.2671017407203712\n",
            "  (35, 102)\t0.2671017407203712\n",
            "  (35, 67)\t0.2671017407203712\n",
            "  (35, 81)\t0.2671017407203712\n",
            "  (35, 11)\t0.2671017407203712\n",
            "  (35, 19)\t0.2671017407203712\n",
            "  (35, 9)\t0.23945835789295197\n",
            "  (35, 96)\t0.47891671578590395\n",
            "  (35, 36)\t0.23945835789295197\n",
            "  (35, 107)\t0.23945835789295197\n",
            "  (35, 72)\t0.23945835789295197\n",
            "  (35, 77)\t0.20463181426826232\n"
          ]
        }
      ]
    },
    {
      "cell_type": "markdown",
      "source": [
        "### IDF \n",
        "Inverse Document Frequency (IDF) dalam ilmu informasi dan statistik, adalah metode untuk menentukan frekuensi kata dalam kumpulan data teks. Dalam kombinasi dengan Dalam Frekuensi Dokumen, Frekuensi Dokumen Balik membantu untuk membuat konten yang unik dan bahkan dapat mengganti kepadatan kata kunci sebagai skor kualitas yang telah lama digunakan untuk menentukan kualitas teks. <br>\n",
        "\n",
        "Frekuensi Dokumen Invers ditentukan oleh perhitungan logaritmik. Ini adalah rasio dari semua teks dan dokumen yang ada dari seluruh dataset dan jumlah teks yang berisi kata kunci yang ditentukan. <br>\n"
      ],
      "metadata": {
        "id": "7sjlhjhUlPrd"
      }
    },
    {
      "cell_type": "code",
      "source": [
        "idf=vect.idf_"
      ],
      "metadata": {
        "id": "uJiesuBXK6UE"
      },
      "execution_count": null,
      "outputs": []
    },
    {
      "cell_type": "code",
      "source": [
        "idf"
      ],
      "metadata": {
        "colab": {
          "base_uri": "https://localhost:8080/"
        },
        "id": "O2kRUkodTev1",
        "outputId": "07b6efeb-4638-4f30-e664-6a345fe48b97"
      },
      "execution_count": null,
      "outputs": [
        {
          "output_type": "execute_result",
          "data": {
            "text/plain": [
              "array([3.22462355, 3.91777073, 3.91777073, 3.91777073, 3.91777073,\n",
              "       3.91777073, 3.91777073, 3.91777073, 3.91777073, 3.51230562,\n",
              "       3.91777073, 3.91777073, 3.91777073, 3.91777073, 3.91777073,\n",
              "       3.91777073, 3.91777073, 3.91777073, 3.91777073, 3.91777073,\n",
              "       3.91777073, 3.51230562, 2.53147637, 3.91777073, 3.91777073,\n",
              "       3.91777073, 3.91777073, 3.51230562, 3.91777073, 3.91777073,\n",
              "       2.21302264, 3.91777073, 3.51230562, 3.51230562, 3.91777073,\n",
              "       2.12601126, 3.51230562, 3.51230562, 1.2787134 , 1.2787134 ,\n",
              "       2.41369334, 1.08455739, 1.2787134 , 3.51230562, 3.91777073,\n",
              "       3.91777073, 3.91777073, 3.91777073, 3.91777073, 3.91777073,\n",
              "       3.22462355, 3.91777073, 3.91777073, 3.91777073, 3.22462355,\n",
              "       3.91777073, 2.12601126, 3.91777073, 3.22462355, 3.91777073,\n",
              "       2.81915844, 3.91777073, 2.12601126, 3.91777073, 1.83832919,\n",
              "       3.91777073, 3.91777073, 3.91777073, 3.91777073, 3.00148   ,\n",
              "       3.51230562, 3.91777073, 3.51230562, 3.91777073, 3.91777073,\n",
              "       1.77770457, 3.91777073, 3.00148   , 3.51230562, 3.51230562,\n",
              "       3.91777073, 3.91777073, 3.51230562, 3.91777073, 3.91777073,\n",
              "       3.22462355, 3.51230562, 3.51230562, 2.53147637, 3.51230562,\n",
              "       3.91777073, 3.91777073, 3.91777073, 3.91777073, 3.91777073,\n",
              "       3.91777073, 3.51230562, 1.24362208, 2.66500776, 3.91777073,\n",
              "       3.91777073, 2.41369334, 3.91777073, 3.91777073, 3.91777073,\n",
              "       3.00148   , 3.51230562, 3.51230562, 3.91777073, 1.97186058])"
            ]
          },
          "metadata": {},
          "execution_count": 67
        }
      ]
    },
    {
      "cell_type": "markdown",
      "source": [
        "### Mengetahui Kata yang Sering Ada\n",
        "Mengetahui hasil nilai data yang sering keluar dalam topik yang ada."
      ],
      "metadata": {
        "id": "eH3A82oLmu3b"
      }
    },
    {
      "cell_type": "code",
      "source": [
        "dd=dict(zip(vect.get_feature_names(), idf))\n",
        "l=sorted(dd, key=(dd).get)\n",
        "# print(l)\n",
        "print(l[0],l[-1])\n",
        "print(dd['ihsg'])\n",
        "print(dd['widodo'])  # ihsg dan widodo merupakan kata yang sering muncul dalam headline"
      ],
      "metadata": {
        "colab": {
          "base_uri": "https://localhost:8080/"
        },
        "id": "Ds6-R4n1K-21",
        "outputId": "2196584c-6954-4284-ad85-9693d0d52526"
      },
      "execution_count": null,
      "outputs": [
        {
          "output_type": "stream",
          "name": "stdout",
          "text": [
            "ihsg widodo\n",
            "1.084557388028063\n",
            "3.917770732084279\n"
          ]
        },
        {
          "output_type": "stream",
          "name": "stderr",
          "text": [
            "/usr/local/lib/python3.7/dist-packages/sklearn/utils/deprecation.py:87: FutureWarning: Function get_feature_names is deprecated; get_feature_names is deprecated in 1.0 and will be removed in 1.2. Please use get_feature_names_out instead.\n",
            "  warnings.warn(msg, category=FutureWarning)\n"
          ]
        }
      ]
    },
    {
      "cell_type": "markdown",
      "source": [
        "## LSA \n",
        "SVD menguraikan DTM asli menjadi tiga matriks S=U.(sigma).(V.T). Di sini matriks U menunjukkan matriks dokumen-topik sementara (V) adalah matriks topik-term. <br>\n",
        "\n",
        "Setiap baris dari matriks U (matriks istilah dokumen) adalah representasi vektor dari dokumen yang sesuai. Panjang vektor ini adalah jumlah topik yang diinginkan. Representasi vektor untuk suku-suku dalam data kami dapat ditemukan dalam matriks V (matriks istilah-topik).\n",
        "\n",
        "Jadi, SVD memberi kita vektor untuk setiap dokumen dan istilah dalam data kita. Panjang setiap vektor adalah k. Kami kemudian dapat menggunakan vektor-vektor ini untuk menemukan kata-kata dan dokumen serupa menggunakan metode kesamaan kosinus.\n",
        "\n",
        "Kita dapat menggunakan fungsi truncatedSVD untuk mengimplementasikan LSA. Parameter n_components adalah jumlah topik yang ingin kita ekstrak. Model tersebut kemudian di fit dan ditransformasikan pada hasil yang diberikan oleh vectorizer.\n",
        "\n",
        "Terakhir perhatikan bahwa LSA dan LSI (I untuk pengindeksan) adalah sama dan yang terakhir kadang-kadang digunakan dalam konteks pencarian informasi."
      ],
      "metadata": {
        "id": "fEhNcWuFobJs"
      }
    },
    {
      "cell_type": "markdown",
      "source": [
        "### SVD \n",
        "SVD atau Singular Value Decomposition, memiliki beragam aplikasi. Ini termasuk pengurangan dimensi, kompresi gambar, dan denoising data. Pada intinya, SVD menyatakan bahwa suatu matriks dapat direpresentasikan sebagai produk dari tiga matriks lainnya. Rumus SVD dapat dijabarkan sebagai berikut: <br>\n",
        "\n",
        "<img src=\"https://miro.medium.com/max/335/1*P4VgGcZYQl04Jqa4NW9b4A.png\">\n",
        "\n",
        "\n",
        "di mana n adalah jumlah baris (yaitu sampel) dan p mewakili jumlah dimensi."
      ],
      "metadata": {
        "id": "On9nwMeSnfEO"
      }
    },
    {
      "cell_type": "code",
      "source": [
        "from sklearn.decomposition import TruncatedSVD\n",
        "lsa_model = TruncatedSVD(n_components=10, algorithm='randomized', n_iter=10, random_state=42)\n",
        "\n",
        "lsa_top=lsa_model.fit_transform(vect_text)"
      ],
      "metadata": {
        "id": "2fHI2wu_LSp9"
      },
      "execution_count": null,
      "outputs": []
    },
    {
      "cell_type": "markdown",
      "source": [
        "Hasil SVD di shape"
      ],
      "metadata": {
        "id": "-KDvBtnUoQAh"
      }
    },
    {
      "cell_type": "code",
      "source": [
        "print(lsa_top)\n",
        "print(lsa_top.shape)"
      ],
      "metadata": {
        "colab": {
          "base_uri": "https://localhost:8080/"
        },
        "id": "k76TzoSwLV3K",
        "outputId": "30ede656-3b85-4dd7-889f-993c4cad4163"
      },
      "execution_count": null,
      "outputs": [
        {
          "output_type": "stream",
          "name": "stdout",
          "text": [
            "[[ 5.84875151e-01 -1.20933298e-01  2.92917688e-01 -8.96867746e-02\n",
            "  -4.71545609e-02 -2.08929285e-01  6.75476722e-02 -6.99774296e-02\n",
            "  -1.40353625e-01 -3.95790578e-01]\n",
            " [ 6.56432029e-01  3.60306912e-01  2.35454147e-01  7.91806990e-02\n",
            "   1.66978567e-02 -1.86141770e-01  4.60956140e-03 -1.91494497e-02\n",
            "   1.16703355e-02 -9.41759752e-02]\n",
            " [ 4.76945285e-01 -9.97645455e-02  5.54106591e-01  4.65233416e-03\n",
            "  -3.06846568e-02 -1.73932520e-01 -1.29097355e-02  1.04330311e-02\n",
            "   1.30066709e-02 -7.85580478e-02]\n",
            " [ 5.43267100e-01  1.35404364e-01  4.08065803e-01 -9.14160316e-02\n",
            "   1.26264290e-01 -2.67533038e-01 -1.10666146e-02  7.40132609e-02\n",
            "   4.57869488e-02  1.02484970e-01]\n",
            " [ 1.45788078e-01 -6.02293325e-03  3.83914528e-01  1.95456550e-01\n",
            "  -9.81658404e-02 -2.16407582e-02 -4.10860590e-02 -1.78834306e-02\n",
            "   8.45403218e-02  3.69725262e-02]\n",
            " [ 2.95279498e-01  1.90442303e-01  3.43846150e-01  1.04993142e-01\n",
            "   6.74109399e-02 -2.22734643e-01 -2.89982494e-01 -1.44866721e-01\n",
            "   1.99596766e-01 -8.29573843e-02]\n",
            " [ 6.00426379e-01  4.97900842e-01 -1.74716269e-01  1.37397629e-01\n",
            "  -4.85033461e-02  1.94143062e-01  3.22984381e-01  1.04653593e-01\n",
            "  -1.55384854e-01 -2.13898897e-01]\n",
            " [ 4.70658013e-01 -3.83756843e-01 -2.10657883e-01  8.08848828e-04\n",
            "   1.49689717e-01  1.29952132e-01  2.42558579e-01  3.35364498e-02\n",
            "  -2.20015240e-01  9.80316564e-02]\n",
            " [ 3.53694892e-02 -4.10863730e-02 -2.72940000e-02 -2.42323933e-02\n",
            "  -4.02953551e-02 -3.20081908e-02  5.46360383e-03  6.87333906e-01\n",
            "   3.56542510e-01 -1.11411256e-01]\n",
            " [ 6.00426379e-01  4.97900842e-01 -1.74716269e-01  1.37397629e-01\n",
            "  -4.85033461e-02  1.94143062e-01  3.22984381e-01  1.04653593e-01\n",
            "  -1.55384854e-01 -2.13898897e-01]\n",
            " [ 4.70521964e-01 -4.54809850e-01 -2.37815996e-01  6.96263783e-02\n",
            "  -1.14747627e-01 -2.00734170e-01 -6.12968283e-02  1.58639759e-01\n",
            "  -1.39265651e-02 -5.05759761e-02]\n",
            " [ 6.58168638e-01 -3.02728402e-01 -1.89781346e-01 -1.49000755e-02\n",
            "  -4.24957848e-02 -3.12939267e-01 -4.11600207e-02  3.62594126e-02\n",
            "  -9.82032450e-02 -5.26236802e-02]\n",
            " [ 1.61322088e-01 -4.42874200e-02 -3.80663859e-04 -6.71324688e-02\n",
            "  -3.79935430e-02  3.56823616e-02  3.42122441e-02  6.17261268e-01\n",
            "   3.45086298e-01 -4.65043632e-02]\n",
            " [ 5.56046848e-01 -2.27439544e-01 -3.06646689e-02 -3.06112414e-01\n",
            "   6.24440133e-02 -1.48841730e-01  2.19694058e-01  2.61294864e-02\n",
            "  -1.64536691e-01  1.85404873e-01]\n",
            " [ 7.64921502e-01  2.48878360e-01 -1.03434666e-01 -9.00484548e-02\n",
            "   5.85609732e-02  1.28192555e-01 -1.89824263e-01 -3.90515399e-02\n",
            "   1.46346361e-01  1.80671596e-01]\n",
            " [ 4.53086225e-01 -3.43614771e-01 -6.07300030e-02 -1.45043708e-01\n",
            "  -1.52696820e-01  6.03039884e-03  3.73230494e-01 -2.34129702e-01\n",
            "   3.61343441e-01 -3.95497746e-02]\n",
            " [ 6.48908176e-01  1.23461980e-01 -2.56443820e-01  1.09844868e-01\n",
            "  -3.73498567e-03  1.89756624e-01 -4.11313392e-01 -1.25181790e-01\n",
            "   2.12620994e-01  1.25127556e-01]\n",
            " [ 4.58288872e-01 -1.67262925e-01  3.77194141e-01 -3.53503270e-02\n",
            "  -1.12564604e-01  4.82945536e-01 -1.93145127e-01 -7.34004713e-03\n",
            "  -1.90296200e-02 -1.00890618e-01]\n",
            " [ 1.37766024e-01  7.33807552e-02  2.90904272e-01  5.15695986e-01\n",
            "  -3.01544941e-01 -2.27612234e-02  2.17833539e-01  8.24953933e-02\n",
            "  -1.22543797e-01  3.23922385e-01]\n",
            " [ 1.41325067e-01 -1.32920760e-01 -8.71431193e-02  4.07347824e-01\n",
            "  -1.51271925e-01 -9.16251265e-02 -8.03873652e-02  7.64786386e-03\n",
            "  -2.16469281e-02  4.27249943e-01]\n",
            " [ 1.26412273e-01 -1.92646228e-01  9.40471508e-02  4.86025436e-01\n",
            "   6.60899780e-01 -6.74527470e-02  1.30522613e-02 -1.52386873e-02\n",
            "   1.06420198e-01 -5.63253099e-02]\n",
            " [ 4.68571077e-01 -3.73179726e-01  4.99941143e-02 -5.72898375e-02\n",
            "   2.29888262e-01  4.22832019e-01  1.14807989e-01  3.01700725e-02\n",
            "  -1.18113182e-01  8.70884739e-02]\n",
            " [ 1.13860053e-01 -8.05397030e-02  1.73616242e-02 -3.92810101e-02\n",
            "  -1.57543151e-01  7.02627053e-02  4.46656848e-01 -3.68788441e-01\n",
            "   6.58083065e-01  6.76509401e-02]\n",
            " [ 6.05007296e-01 -5.40870790e-02 -1.57041423e-01  1.96703421e-01\n",
            "  -1.32663730e-01 -1.83896124e-01 -4.93757326e-02 -1.24946715e-01\n",
            "  -4.98795683e-02 -3.21472167e-01]\n",
            " [ 4.84602442e-01  2.69114787e-01 -3.77437612e-02 -2.80037337e-01\n",
            "   1.72631494e-01 -1.16532398e-01  5.40884112e-02  3.89992413e-02\n",
            "  -2.84458961e-02  4.34028782e-01]\n",
            " [ 6.10871242e-01 -2.09972574e-01  2.12878116e-01 -2.76899855e-01\n",
            "   1.50132505e-02  2.05257227e-01  5.79165881e-02  3.94432253e-02\n",
            "  -1.35191752e-01  1.10180511e-02]\n",
            " [ 1.31600326e-01  8.58400175e-02  3.01015800e-01  4.28612762e-01\n",
            "  -2.62448594e-01  3.06049669e-03  2.46318283e-01  8.00680139e-02\n",
            "  -1.14745472e-01  1.35521318e-01]\n",
            " [ 7.26306393e-01  4.12243695e-01 -1.38899894e-01 -1.70404459e-01\n",
            "   1.05062014e-01 -3.86160194e-02  1.23573870e-03 -2.94080202e-02\n",
            "  -9.12578688e-03  1.25234091e-01]\n",
            " [ 6.98969783e-01 -4.36807829e-02  2.61416619e-01 -2.65351773e-01\n",
            "   1.39588023e-01 -1.83167640e-01  6.70433513e-02  4.90807476e-02\n",
            "  -2.71866205e-02  1.51407806e-01]\n",
            " [ 7.18947214e-01  4.77992909e-01 -1.41340168e-01 -1.23987502e-01\n",
            "   8.36816980e-02 -3.62238322e-02 -7.65493715e-02 -3.61033102e-02\n",
            "   3.91047306e-02 -1.00588018e-03]\n",
            " [ 4.70453097e-01 -3.52047753e-01 -1.91813135e-01  9.06790462e-02\n",
            "  -8.67943681e-02 -5.22601056e-02 -1.25384848e-01  9.47570640e-02\n",
            "  -1.37212846e-02  1.33229895e-01]\n",
            " [ 6.50013175e-01  3.12382120e-01 -2.45801010e-01  2.93782174e-01\n",
            "  -7.22998045e-02  1.60863135e-01 -1.16694331e-01 -5.48570996e-04\n",
            "   1.10211853e-01  2.22589768e-02]\n",
            " [ 6.60844472e-01 -4.84027518e-01 -2.48549491e-01  1.90708765e-01\n",
            "  -7.78355397e-02 -1.02896604e-01 -7.78290836e-02 -2.61587364e-02\n",
            "  -6.90649926e-03  5.38140657e-03]\n",
            " [ 4.39470035e-01 -2.28484233e-01  3.86031992e-01 -4.73655733e-02\n",
            "  -1.09678478e-01  5.07683182e-01 -2.22210494e-01  2.74153929e-03\n",
            "   5.75715859e-04 -8.33134193e-03]\n",
            " [ 6.93318254e-01 -2.10068145e-01 -2.35195918e-01  1.23089905e-01\n",
            "  -1.02779839e-01 -1.99405613e-02 -1.18226666e-01 -1.15116950e-01\n",
            "   2.14312810e-02 -2.05119381e-01]\n",
            " [ 1.93841146e-02 -1.00516833e-01  3.74345105e-02  3.31520372e-01\n",
            "   7.37991625e-01  9.75900166e-02  1.49427234e-01 -3.11753714e-03\n",
            "   1.05980609e-01 -6.31985213e-02]]\n",
            "(36, 10)\n"
          ]
        }
      ]
    },
    {
      "cell_type": "markdown",
      "source": [
        "\n",
        "Mirip dengan dokumen lain kita bisa melakukan ini. Namun perhatikan bahwa nilai tidak menambah 1 seperti di LSA itu bukan kemungkinan topik dalam dokumen."
      ],
      "metadata": {
        "id": "9dYZFJw3oTS4"
      }
    },
    {
      "cell_type": "code",
      "source": [
        "l=lsa_top[0]\n",
        "print(\"Document 0 :\")\n",
        "for i,topic in enumerate(l):\n",
        "  print(\"Topic \",i,\" : \",topic*100)"
      ],
      "metadata": {
        "colab": {
          "base_uri": "https://localhost:8080/"
        },
        "id": "x1NeoUxKLbFQ",
        "outputId": "0f2e8786-f328-4866-9674-8dbe812e8280"
      },
      "execution_count": null,
      "outputs": [
        {
          "output_type": "stream",
          "name": "stdout",
          "text": [
            "Document 0 :\n",
            "Topic  0  :  58.48751514341895\n",
            "Topic  1  :  -12.093329753351522\n",
            "Topic  2  :  29.29176883622418\n",
            "Topic  3  :  -8.968677459296185\n",
            "Topic  4  :  -4.715456091302982\n",
            "Topic  5  :  -20.89292846477461\n",
            "Topic  6  :  6.7547672191680785\n",
            "Topic  7  :  -6.997742963523714\n",
            "Topic  8  :  -14.035362533699786\n",
            "Topic  9  :  -39.57905779842051\n"
          ]
        }
      ]
    },
    {
      "cell_type": "code",
      "source": [
        "print(lsa_model.components_.shape) # (no_of_topics*no_of_words)\n",
        "print(lsa_model.components_)"
      ],
      "metadata": {
        "colab": {
          "base_uri": "https://localhost:8080/"
        },
        "id": "lRKdUHm3Le5-",
        "outputId": "bd947778-e896-4c13-8da3-f87bb33698f9"
      },
      "execution_count": null,
      "outputs": [
        {
          "output_type": "stream",
          "name": "stdout",
          "text": [
            "(10, 110)\n",
            "[[ 5.24597635e-02  5.71429036e-03  6.58506140e-03 ...  4.01956316e-03\n",
            "   5.23767448e-03  2.15705068e-01]\n",
            " [-6.51691007e-02 -8.08051247e-04  1.47022329e-02 ... -2.72053509e-02\n",
            "  -4.92170651e-03  2.43404460e-01]\n",
            " [ 2.29368646e-01  6.87649508e-02  6.88310912e-02 ...  1.63659180e-02\n",
            "  -5.64784916e-05 -6.88470102e-02]\n",
            " ...\n",
            " [ 1.72425055e-03 -5.42696811e-03  3.10210770e-02 ... -3.90746430e-03\n",
            "   1.55164986e-01 -1.08043589e-01]\n",
            " [-1.63437883e-03  2.61556322e-02 -4.53125319e-02 ...  4.48824267e-02\n",
            "   8.84379719e-02  6.80050535e-02]\n",
            " [-5.88372360e-02  1.20480713e-02  5.63708577e-02 ... -2.65315572e-02\n",
            "  -1.25510793e-02 -2.10183928e-01]]\n"
          ]
        }
      ]
    },
    {
      "cell_type": "code",
      "source": [
        "# kata-kata paling penting untuk setiap topik\n",
        "vocab = vect.get_feature_names()\n",
        "\n",
        "for i, comp in enumerate(lsa_model.components_):\n",
        "    vocab_comp = zip(vocab, comp)\n",
        "    sorted_words = sorted(vocab_comp, key= lambda x:x[1], reverse=True)[:10]\n",
        "    print(\"Topic \"+str(i)+\": \")\n",
        "    for t in sorted_words:\n",
        "        print(t[0],end=\" \")\n",
        "    print(\"\\n\")"
      ],
      "metadata": {
        "colab": {
          "base_uri": "https://localhost:8080/"
        },
        "id": "DeUfOxTLLiq-",
        "outputId": "22c57068-dd80-4d30-a8a3-b69968937591"
      },
      "execution_count": null,
      "outputs": [
        {
          "output_type": "stream",
          "name": "stdout",
          "text": [
            "Topic 0: \n",
            "ihsg gabungan harga indeks menguat saham pagi zona ditutup melemah \n",
            "\n",
            "Topic 1: \n",
            "sore ditutup zona hijau seharian bergerak menguat mayoritas didominasi positif \n",
            "\n",
            "Topic 2: \n",
            "level poin 000 melanjutkan menguat tren mixed 017 041 kokoh \n",
            "\n",
            "Topic 3: \n",
            "melemah bergerak diprediksi mixed level dolar rupiah 081 929 analisanya \n",
            "\n",
            "Topic 4: \n",
            "rupiah dolar pelemahan 15 nilai tukar menguat poin 200 angka \n",
            "\n",
            "Topic 5: \n",
            "melanjutkan tren pelemahan 000 pelemahannya pagi lengser menjauh negatifnya mayoritas \n",
            "\n",
            "Topic 6: \n",
            "pergerakan ramalan laju bergerak didominasi positif labil mixed pelemahan tipi \n",
            "\n",
            "Topic 7: \n",
            "bursa efek indonesia perdana berpesan cetak jemawa joko jokowi presiden \n",
            "\n",
            "Topic 8: \n",
            "pergerakan ramalan merah labil bursa efek indonesia berpesan cetak jemawa \n",
            "\n",
            "Topic 9: \n",
            "diprediksi tipi analisanya simak mixed menguat jelang menipis penguatannya penutupan \n",
            "\n"
          ]
        }
      ]
    },
    {
      "cell_type": "markdown",
      "source": [
        "## Kesimpulan\n",
        "Jadi, Hasil LSA pada topik berita yang diangkat adalah: <br>\n",
        "Topic 0: \n",
        "ihsg gabungan harga indeks menguat saham pagi zona ditutup melemah \n",
        "\n",
        "Topic 1: \n",
        "sore ditutup zona hijau seharian bergerak menguat mayoritas didominasi positif \n",
        "\n",
        "Topic 2: \n",
        "level poin 000 melanjutkan menguat tren mixed 017 041 kokoh \n",
        "\n",
        "Topic 3: \n",
        "melemah bergerak diprediksi mixed level dolar rupiah 081 929 analisanya \n",
        "\n",
        "Topic 4: \n",
        "rupiah dolar pelemahan 15 nilai tukar menguat poin 200 angka \n",
        "\n",
        "Topic 5: \n",
        "melanjutkan tren pelemahan 000 pelemahannya pagi lengser menjauh negatifnya mayoritas \n",
        "\n",
        "Topic 6: \n",
        "pergerakan ramalan laju bergerak didominasi positif labil mixed pelemahan tipi \n",
        "\n",
        "Topic 7: \n",
        "bursa efek indonesia perdana berpesan cetak jemawa joko jokowi presiden \n",
        "\n",
        "Topic 8: \n",
        "pergerakan ramalan merah labil bursa efek indonesia berpesan cetak jemawa \n",
        "\n",
        "Topic 9: \n",
        "diprediksi tipi analisanya simak mixed menguat jelang menipis penguatannya penutupan "
      ],
      "metadata": {
        "id": "xHBfmyb_py7t"
      }
    }
  ]
}